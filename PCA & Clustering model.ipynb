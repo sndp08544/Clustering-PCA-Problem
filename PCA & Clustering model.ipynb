{
 "cells": [
  {
   "cell_type": "code",
   "execution_count": 1,
   "metadata": {},
   "outputs": [],
   "source": [
    "#importing required packages\n",
    "import numpy as np\n",
    "import pandas as pd\n",
    "import matplotlib.pyplot as plt\n",
    "import seaborn as sns"
   ]
  },
  {
   "cell_type": "code",
   "execution_count": 2,
   "metadata": {},
   "outputs": [
    {
     "data": {
      "text/html": [
       "<div>\n",
       "<style scoped>\n",
       "    .dataframe tbody tr th:only-of-type {\n",
       "        vertical-align: middle;\n",
       "    }\n",
       "\n",
       "    .dataframe tbody tr th {\n",
       "        vertical-align: top;\n",
       "    }\n",
       "\n",
       "    .dataframe thead th {\n",
       "        text-align: right;\n",
       "    }\n",
       "</style>\n",
       "<table border=\"1\" class=\"dataframe\">\n",
       "  <thead>\n",
       "    <tr style=\"text-align: right;\">\n",
       "      <th></th>\n",
       "      <th>country</th>\n",
       "      <th>child_mort</th>\n",
       "      <th>exports</th>\n",
       "      <th>health</th>\n",
       "      <th>imports</th>\n",
       "      <th>income</th>\n",
       "      <th>inflation</th>\n",
       "      <th>life_expec</th>\n",
       "      <th>total_fer</th>\n",
       "      <th>gdpp</th>\n",
       "    </tr>\n",
       "  </thead>\n",
       "  <tbody>\n",
       "    <tr>\n",
       "      <th>0</th>\n",
       "      <td>Afghanistan</td>\n",
       "      <td>90.2</td>\n",
       "      <td>10.0</td>\n",
       "      <td>7.58</td>\n",
       "      <td>44.9</td>\n",
       "      <td>1610</td>\n",
       "      <td>9.44</td>\n",
       "      <td>56.2</td>\n",
       "      <td>5.82</td>\n",
       "      <td>553</td>\n",
       "    </tr>\n",
       "    <tr>\n",
       "      <th>1</th>\n",
       "      <td>Albania</td>\n",
       "      <td>16.6</td>\n",
       "      <td>28.0</td>\n",
       "      <td>6.55</td>\n",
       "      <td>48.6</td>\n",
       "      <td>9930</td>\n",
       "      <td>4.49</td>\n",
       "      <td>76.3</td>\n",
       "      <td>1.65</td>\n",
       "      <td>4090</td>\n",
       "    </tr>\n",
       "    <tr>\n",
       "      <th>2</th>\n",
       "      <td>Algeria</td>\n",
       "      <td>27.3</td>\n",
       "      <td>38.4</td>\n",
       "      <td>4.17</td>\n",
       "      <td>31.4</td>\n",
       "      <td>12900</td>\n",
       "      <td>16.10</td>\n",
       "      <td>76.5</td>\n",
       "      <td>2.89</td>\n",
       "      <td>4460</td>\n",
       "    </tr>\n",
       "    <tr>\n",
       "      <th>3</th>\n",
       "      <td>Angola</td>\n",
       "      <td>119.0</td>\n",
       "      <td>62.3</td>\n",
       "      <td>2.85</td>\n",
       "      <td>42.9</td>\n",
       "      <td>5900</td>\n",
       "      <td>22.40</td>\n",
       "      <td>60.1</td>\n",
       "      <td>6.16</td>\n",
       "      <td>3530</td>\n",
       "    </tr>\n",
       "    <tr>\n",
       "      <th>4</th>\n",
       "      <td>Antigua and Barbuda</td>\n",
       "      <td>10.3</td>\n",
       "      <td>45.5</td>\n",
       "      <td>6.03</td>\n",
       "      <td>58.9</td>\n",
       "      <td>19100</td>\n",
       "      <td>1.44</td>\n",
       "      <td>76.8</td>\n",
       "      <td>2.13</td>\n",
       "      <td>12200</td>\n",
       "    </tr>\n",
       "  </tbody>\n",
       "</table>\n",
       "</div>"
      ],
      "text/plain": [
       "               country  child_mort  exports  health  imports  income  \\\n",
       "0          Afghanistan        90.2     10.0    7.58     44.9    1610   \n",
       "1              Albania        16.6     28.0    6.55     48.6    9930   \n",
       "2              Algeria        27.3     38.4    4.17     31.4   12900   \n",
       "3               Angola       119.0     62.3    2.85     42.9    5900   \n",
       "4  Antigua and Barbuda        10.3     45.5    6.03     58.9   19100   \n",
       "\n",
       "   inflation  life_expec  total_fer   gdpp  \n",
       "0       9.44        56.2       5.82    553  \n",
       "1       4.49        76.3       1.65   4090  \n",
       "2      16.10        76.5       2.89   4460  \n",
       "3      22.40        60.1       6.16   3530  \n",
       "4       1.44        76.8       2.13  12200  "
      ]
     },
     "execution_count": 2,
     "metadata": {},
     "output_type": "execute_result"
    }
   ],
   "source": [
    "#Reading the main file\n",
    "df = pd.read_csv('C:/Users/Rohini/Downloads/Country-data.csv')\n",
    "df.head()"
   ]
  },
  {
   "cell_type": "code",
   "execution_count": 3,
   "metadata": {},
   "outputs": [
    {
     "data": {
      "text/html": [
       "<div>\n",
       "<style scoped>\n",
       "    .dataframe tbody tr th:only-of-type {\n",
       "        vertical-align: middle;\n",
       "    }\n",
       "\n",
       "    .dataframe tbody tr th {\n",
       "        vertical-align: top;\n",
       "    }\n",
       "\n",
       "    .dataframe thead th {\n",
       "        text-align: right;\n",
       "    }\n",
       "</style>\n",
       "<table border=\"1\" class=\"dataframe\">\n",
       "  <thead>\n",
       "    <tr style=\"text-align: right;\">\n",
       "      <th></th>\n",
       "      <th>country</th>\n",
       "      <th>child_mort</th>\n",
       "      <th>income</th>\n",
       "      <th>inflation</th>\n",
       "      <th>life_expec</th>\n",
       "      <th>total_fer</th>\n",
       "      <th>gdpp</th>\n",
       "      <th>Health</th>\n",
       "      <th>Exports</th>\n",
       "      <th>Imports</th>\n",
       "    </tr>\n",
       "  </thead>\n",
       "  <tbody>\n",
       "    <tr>\n",
       "      <th>0</th>\n",
       "      <td>Afghanistan</td>\n",
       "      <td>90.2</td>\n",
       "      <td>1610</td>\n",
       "      <td>9.44</td>\n",
       "      <td>56.2</td>\n",
       "      <td>5.82</td>\n",
       "      <td>553</td>\n",
       "      <td>4191.74</td>\n",
       "      <td>5530.0</td>\n",
       "      <td>24829.7</td>\n",
       "    </tr>\n",
       "    <tr>\n",
       "      <th>1</th>\n",
       "      <td>Albania</td>\n",
       "      <td>16.6</td>\n",
       "      <td>9930</td>\n",
       "      <td>4.49</td>\n",
       "      <td>76.3</td>\n",
       "      <td>1.65</td>\n",
       "      <td>4090</td>\n",
       "      <td>26789.50</td>\n",
       "      <td>114520.0</td>\n",
       "      <td>198774.0</td>\n",
       "    </tr>\n",
       "    <tr>\n",
       "      <th>2</th>\n",
       "      <td>Algeria</td>\n",
       "      <td>27.3</td>\n",
       "      <td>12900</td>\n",
       "      <td>16.10</td>\n",
       "      <td>76.5</td>\n",
       "      <td>2.89</td>\n",
       "      <td>4460</td>\n",
       "      <td>18598.20</td>\n",
       "      <td>171264.0</td>\n",
       "      <td>140044.0</td>\n",
       "    </tr>\n",
       "    <tr>\n",
       "      <th>3</th>\n",
       "      <td>Angola</td>\n",
       "      <td>119.0</td>\n",
       "      <td>5900</td>\n",
       "      <td>22.40</td>\n",
       "      <td>60.1</td>\n",
       "      <td>6.16</td>\n",
       "      <td>3530</td>\n",
       "      <td>10060.50</td>\n",
       "      <td>219919.0</td>\n",
       "      <td>151437.0</td>\n",
       "    </tr>\n",
       "    <tr>\n",
       "      <th>4</th>\n",
       "      <td>Antigua and Barbuda</td>\n",
       "      <td>10.3</td>\n",
       "      <td>19100</td>\n",
       "      <td>1.44</td>\n",
       "      <td>76.8</td>\n",
       "      <td>2.13</td>\n",
       "      <td>12200</td>\n",
       "      <td>73566.00</td>\n",
       "      <td>555100.0</td>\n",
       "      <td>718580.0</td>\n",
       "    </tr>\n",
       "  </tbody>\n",
       "</table>\n",
       "</div>"
      ],
      "text/plain": [
       "               country  child_mort  income  inflation  life_expec  total_fer  \\\n",
       "0          Afghanistan        90.2    1610       9.44        56.2       5.82   \n",
       "1              Albania        16.6    9930       4.49        76.3       1.65   \n",
       "2              Algeria        27.3   12900      16.10        76.5       2.89   \n",
       "3               Angola       119.0    5900      22.40        60.1       6.16   \n",
       "4  Antigua and Barbuda        10.3   19100       1.44        76.8       2.13   \n",
       "\n",
       "    gdpp    Health   Exports   Imports  \n",
       "0    553   4191.74    5530.0   24829.7  \n",
       "1   4090  26789.50  114520.0  198774.0  \n",
       "2   4460  18598.20  171264.0  140044.0  \n",
       "3   3530  10060.50  219919.0  151437.0  \n",
       "4  12200  73566.00  555100.0  718580.0  "
      ]
     },
     "execution_count": 3,
     "metadata": {},
     "output_type": "execute_result"
    }
   ],
   "source": [
    "#Converting Health, Imports and exports to absolute values. (Defines per person spends respectively)\n",
    "df['Health'] = df.health*df.gdpp\n",
    "df['Exports'] = df.exports*df.gdpp\n",
    "df['Imports'] = df.imports*df.gdpp\n",
    "#Dropping % value columns\n",
    "df = df.drop(['health','imports','exports'],axis=1)\n",
    "df.head()"
   ]
  },
  {
   "cell_type": "code",
   "execution_count": 4,
   "metadata": {},
   "outputs": [
    {
     "data": {
      "text/html": [
       "<div>\n",
       "<style scoped>\n",
       "    .dataframe tbody tr th:only-of-type {\n",
       "        vertical-align: middle;\n",
       "    }\n",
       "\n",
       "    .dataframe tbody tr th {\n",
       "        vertical-align: top;\n",
       "    }\n",
       "\n",
       "    .dataframe thead th {\n",
       "        text-align: right;\n",
       "    }\n",
       "</style>\n",
       "<table border=\"1\" class=\"dataframe\">\n",
       "  <thead>\n",
       "    <tr style=\"text-align: right;\">\n",
       "      <th></th>\n",
       "      <th>child_mort</th>\n",
       "      <th>income</th>\n",
       "      <th>inflation</th>\n",
       "      <th>life_expec</th>\n",
       "      <th>total_fer</th>\n",
       "      <th>gdpp</th>\n",
       "      <th>Health</th>\n",
       "      <th>Exports</th>\n",
       "      <th>Imports</th>\n",
       "    </tr>\n",
       "  </thead>\n",
       "  <tbody>\n",
       "    <tr>\n",
       "      <th>count</th>\n",
       "      <td>167.000000</td>\n",
       "      <td>167.000000</td>\n",
       "      <td>167.000000</td>\n",
       "      <td>167.000000</td>\n",
       "      <td>167.000000</td>\n",
       "      <td>167.000000</td>\n",
       "      <td>167.000000</td>\n",
       "      <td>1.670000e+02</td>\n",
       "      <td>1.670000e+02</td>\n",
       "    </tr>\n",
       "    <tr>\n",
       "      <th>mean</th>\n",
       "      <td>38.270060</td>\n",
       "      <td>17144.688623</td>\n",
       "      <td>7.781832</td>\n",
       "      <td>70.555689</td>\n",
       "      <td>2.947964</td>\n",
       "      <td>12964.155689</td>\n",
       "      <td>105673.320419</td>\n",
       "      <td>7.420619e+05</td>\n",
       "      <td>6.588352e+05</td>\n",
       "    </tr>\n",
       "    <tr>\n",
       "      <th>std</th>\n",
       "      <td>40.328931</td>\n",
       "      <td>19278.067698</td>\n",
       "      <td>10.570704</td>\n",
       "      <td>8.893172</td>\n",
       "      <td>1.513848</td>\n",
       "      <td>18328.704809</td>\n",
       "      <td>180140.890556</td>\n",
       "      <td>1.797389e+06</td>\n",
       "      <td>1.471081e+06</td>\n",
       "    </tr>\n",
       "    <tr>\n",
       "      <th>min</th>\n",
       "      <td>2.600000</td>\n",
       "      <td>609.000000</td>\n",
       "      <td>-4.210000</td>\n",
       "      <td>32.100000</td>\n",
       "      <td>1.150000</td>\n",
       "      <td>231.000000</td>\n",
       "      <td>1282.120000</td>\n",
       "      <td>1.076920e+02</td>\n",
       "      <td>6.510920e+01</td>\n",
       "    </tr>\n",
       "    <tr>\n",
       "      <th>25%</th>\n",
       "      <td>8.250000</td>\n",
       "      <td>3355.000000</td>\n",
       "      <td>1.810000</td>\n",
       "      <td>65.300000</td>\n",
       "      <td>1.795000</td>\n",
       "      <td>1330.000000</td>\n",
       "      <td>7853.550000</td>\n",
       "      <td>4.471400e+04</td>\n",
       "      <td>6.402150e+04</td>\n",
       "    </tr>\n",
       "    <tr>\n",
       "      <th>50%</th>\n",
       "      <td>19.300000</td>\n",
       "      <td>9960.000000</td>\n",
       "      <td>5.390000</td>\n",
       "      <td>73.100000</td>\n",
       "      <td>2.410000</td>\n",
       "      <td>4660.000000</td>\n",
       "      <td>32188.600000</td>\n",
       "      <td>1.777440e+05</td>\n",
       "      <td>2.045580e+05</td>\n",
       "    </tr>\n",
       "    <tr>\n",
       "      <th>75%</th>\n",
       "      <td>62.100000</td>\n",
       "      <td>22800.000000</td>\n",
       "      <td>10.750000</td>\n",
       "      <td>76.800000</td>\n",
       "      <td>3.880000</td>\n",
       "      <td>14050.000000</td>\n",
       "      <td>97694.000000</td>\n",
       "      <td>7.278000e+05</td>\n",
       "      <td>7.719600e+05</td>\n",
       "    </tr>\n",
       "    <tr>\n",
       "      <th>max</th>\n",
       "      <td>208.000000</td>\n",
       "      <td>125000.000000</td>\n",
       "      <td>104.000000</td>\n",
       "      <td>82.800000</td>\n",
       "      <td>7.490000</td>\n",
       "      <td>105000.000000</td>\n",
       "      <td>866360.000000</td>\n",
       "      <td>1.837500e+07</td>\n",
       "      <td>1.491000e+07</td>\n",
       "    </tr>\n",
       "  </tbody>\n",
       "</table>\n",
       "</div>"
      ],
      "text/plain": [
       "       child_mort         income   inflation  life_expec   total_fer  \\\n",
       "count  167.000000     167.000000  167.000000  167.000000  167.000000   \n",
       "mean    38.270060   17144.688623    7.781832   70.555689    2.947964   \n",
       "std     40.328931   19278.067698   10.570704    8.893172    1.513848   \n",
       "min      2.600000     609.000000   -4.210000   32.100000    1.150000   \n",
       "25%      8.250000    3355.000000    1.810000   65.300000    1.795000   \n",
       "50%     19.300000    9960.000000    5.390000   73.100000    2.410000   \n",
       "75%     62.100000   22800.000000   10.750000   76.800000    3.880000   \n",
       "max    208.000000  125000.000000  104.000000   82.800000    7.490000   \n",
       "\n",
       "                gdpp         Health       Exports       Imports  \n",
       "count     167.000000     167.000000  1.670000e+02  1.670000e+02  \n",
       "mean    12964.155689  105673.320419  7.420619e+05  6.588352e+05  \n",
       "std     18328.704809  180140.890556  1.797389e+06  1.471081e+06  \n",
       "min       231.000000    1282.120000  1.076920e+02  6.510920e+01  \n",
       "25%      1330.000000    7853.550000  4.471400e+04  6.402150e+04  \n",
       "50%      4660.000000   32188.600000  1.777440e+05  2.045580e+05  \n",
       "75%     14050.000000   97694.000000  7.278000e+05  7.719600e+05  \n",
       "max    105000.000000  866360.000000  1.837500e+07  1.491000e+07  "
      ]
     },
     "execution_count": 4,
     "metadata": {},
     "output_type": "execute_result"
    }
   ],
   "source": [
    "df.describe()"
   ]
  },
  {
   "cell_type": "code",
   "execution_count": 5,
   "metadata": {},
   "outputs": [
    {
     "data": {
      "text/plain": [
       "(167, 10)"
      ]
     },
     "execution_count": 5,
     "metadata": {},
     "output_type": "execute_result"
    }
   ],
   "source": [
    "df.shape"
   ]
  },
  {
   "cell_type": "code",
   "execution_count": 6,
   "metadata": {},
   "outputs": [
    {
     "name": "stdout",
     "output_type": "stream",
     "text": [
      "<class 'pandas.core.frame.DataFrame'>\n",
      "RangeIndex: 167 entries, 0 to 166\n",
      "Data columns (total 10 columns):\n",
      "country       167 non-null object\n",
      "child_mort    167 non-null float64\n",
      "income        167 non-null int64\n",
      "inflation     167 non-null float64\n",
      "life_expec    167 non-null float64\n",
      "total_fer     167 non-null float64\n",
      "gdpp          167 non-null int64\n",
      "Health        167 non-null float64\n",
      "Exports       167 non-null float64\n",
      "Imports       167 non-null float64\n",
      "dtypes: float64(7), int64(2), object(1)\n",
      "memory usage: 13.1+ KB\n"
     ]
    }
   ],
   "source": [
    "#checking for null values and data types\n",
    "df.info()"
   ]
  },
  {
   "cell_type": "code",
   "execution_count": 7,
   "metadata": {},
   "outputs": [
    {
     "data": {
      "text/html": [
       "<div>\n",
       "<style scoped>\n",
       "    .dataframe tbody tr th:only-of-type {\n",
       "        vertical-align: middle;\n",
       "    }\n",
       "\n",
       "    .dataframe tbody tr th {\n",
       "        vertical-align: top;\n",
       "    }\n",
       "\n",
       "    .dataframe thead th {\n",
       "        text-align: right;\n",
       "    }\n",
       "</style>\n",
       "<table border=\"1\" class=\"dataframe\">\n",
       "  <thead>\n",
       "    <tr style=\"text-align: right;\">\n",
       "      <th></th>\n",
       "      <th>child_mort</th>\n",
       "      <th>income</th>\n",
       "      <th>inflation</th>\n",
       "      <th>life_expec</th>\n",
       "      <th>total_fer</th>\n",
       "      <th>gdpp</th>\n",
       "      <th>Health</th>\n",
       "      <th>Exports</th>\n",
       "      <th>Imports</th>\n",
       "    </tr>\n",
       "  </thead>\n",
       "  <tbody>\n",
       "    <tr>\n",
       "      <th>0</th>\n",
       "      <td>90.2</td>\n",
       "      <td>1610</td>\n",
       "      <td>9.44</td>\n",
       "      <td>56.2</td>\n",
       "      <td>5.82</td>\n",
       "      <td>553</td>\n",
       "      <td>4191.74</td>\n",
       "      <td>5530.0</td>\n",
       "      <td>24829.7</td>\n",
       "    </tr>\n",
       "    <tr>\n",
       "      <th>1</th>\n",
       "      <td>16.6</td>\n",
       "      <td>9930</td>\n",
       "      <td>4.49</td>\n",
       "      <td>76.3</td>\n",
       "      <td>1.65</td>\n",
       "      <td>4090</td>\n",
       "      <td>26789.50</td>\n",
       "      <td>114520.0</td>\n",
       "      <td>198774.0</td>\n",
       "    </tr>\n",
       "    <tr>\n",
       "      <th>2</th>\n",
       "      <td>27.3</td>\n",
       "      <td>12900</td>\n",
       "      <td>16.10</td>\n",
       "      <td>76.5</td>\n",
       "      <td>2.89</td>\n",
       "      <td>4460</td>\n",
       "      <td>18598.20</td>\n",
       "      <td>171264.0</td>\n",
       "      <td>140044.0</td>\n",
       "    </tr>\n",
       "    <tr>\n",
       "      <th>3</th>\n",
       "      <td>119.0</td>\n",
       "      <td>5900</td>\n",
       "      <td>22.40</td>\n",
       "      <td>60.1</td>\n",
       "      <td>6.16</td>\n",
       "      <td>3530</td>\n",
       "      <td>10060.50</td>\n",
       "      <td>219919.0</td>\n",
       "      <td>151437.0</td>\n",
       "    </tr>\n",
       "    <tr>\n",
       "      <th>4</th>\n",
       "      <td>10.3</td>\n",
       "      <td>19100</td>\n",
       "      <td>1.44</td>\n",
       "      <td>76.8</td>\n",
       "      <td>2.13</td>\n",
       "      <td>12200</td>\n",
       "      <td>73566.00</td>\n",
       "      <td>555100.0</td>\n",
       "      <td>718580.0</td>\n",
       "    </tr>\n",
       "  </tbody>\n",
       "</table>\n",
       "</div>"
      ],
      "text/plain": [
       "   child_mort  income  inflation  life_expec  total_fer   gdpp    Health  \\\n",
       "0        90.2    1610       9.44        56.2       5.82    553   4191.74   \n",
       "1        16.6    9930       4.49        76.3       1.65   4090  26789.50   \n",
       "2        27.3   12900      16.10        76.5       2.89   4460  18598.20   \n",
       "3       119.0    5900      22.40        60.1       6.16   3530  10060.50   \n",
       "4        10.3   19100       1.44        76.8       2.13  12200  73566.00   \n",
       "\n",
       "    Exports   Imports  \n",
       "0    5530.0   24829.7  \n",
       "1  114520.0  198774.0  \n",
       "2  171264.0  140044.0  \n",
       "3  219919.0  151437.0  \n",
       "4  555100.0  718580.0  "
      ]
     },
     "execution_count": 7,
     "metadata": {},
     "output_type": "execute_result"
    }
   ],
   "source": [
    "#Removing country column to perform Standardization\n",
    "df1 = df.drop(['country'],axis=1)\n",
    "df1.head()"
   ]
  },
  {
   "cell_type": "code",
   "execution_count": 8,
   "metadata": {},
   "outputs": [
    {
     "name": "stderr",
     "output_type": "stream",
     "text": [
      "C:\\Users\\Rohini\\Anaconda3\\lib\\site-packages\\sklearn\\preprocessing\\data.py:625: DataConversionWarning: Data with input dtype int64, float64 were all converted to float64 by StandardScaler.\n",
      "  return self.partial_fit(X, y)\n",
      "C:\\Users\\Rohini\\Anaconda3\\lib\\site-packages\\sklearn\\base.py:462: DataConversionWarning: Data with input dtype int64, float64 were all converted to float64 by StandardScaler.\n",
      "  return self.fit(X, **fit_params).transform(X)\n"
     ]
    },
    {
     "data": {
      "text/plain": [
       "array([[ 1.29153238, -0.8082454 ,  0.15733622, ..., -0.56503989,\n",
       "        -0.4110113 , -0.4322755 ],\n",
       "       [-0.5389489 , -0.3753689 , -0.31234747, ..., -0.43921769,\n",
       "        -0.35019096, -0.31367739],\n",
       "       [-0.27283273, -0.22084447,  0.78927429, ..., -0.48482608,\n",
       "        -0.31852577, -0.35372048],\n",
       "       ...,\n",
       "       [-0.37231541, -0.65840354,  0.40973191, ..., -0.53848844,\n",
       "        -0.36146329, -0.37757179],\n",
       "       [ 0.44841668, -0.65892382,  1.50091625, ..., -0.55059641,\n",
       "        -0.39216643, -0.41847942],\n",
       "       [ 1.11495062, -0.72135793,  0.59001454, ..., -0.54049845,\n",
       "        -0.38395214, -0.41844533]])"
      ]
     },
     "execution_count": 8,
     "metadata": {},
     "output_type": "execute_result"
    }
   ],
   "source": [
    "# Performing Standardization\n",
    "from sklearn.preprocessing import StandardScaler\n",
    "standard_scaler = StandardScaler()\n",
    "scaled_df = standard_scaler.fit_transform(df1)\n",
    "scaled_df"
   ]
  },
  {
   "cell_type": "code",
   "execution_count": 9,
   "metadata": {},
   "outputs": [],
   "source": [
    "#Improting the PCA module\n",
    "from sklearn.decomposition import PCA\n",
    "pca = PCA(svd_solver='randomized', random_state=42)"
   ]
  },
  {
   "cell_type": "code",
   "execution_count": 10,
   "metadata": {},
   "outputs": [
    {
     "data": {
      "text/plain": [
       "PCA(copy=True, iterated_power='auto', n_components=None, random_state=42,\n",
       "  svd_solver='randomized', tol=0.0, whiten=False)"
      ]
     },
     "execution_count": 10,
     "metadata": {},
     "output_type": "execute_result"
    }
   ],
   "source": [
    "#Doing the PCA on the standardized data\n",
    "pca.fit(scaled_df)"
   ]
  },
  {
   "cell_type": "code",
   "execution_count": 11,
   "metadata": {},
   "outputs": [
    {
     "data": {
      "text/plain": [
       "array([[-0.31639186,  0.38004113, -0.14308531,  0.34385651, -0.30284224,\n",
       "         0.39998795,  0.358535  ,  0.34288671,  0.34486492],\n",
       "       [ 0.47626735,  0.12838448,  0.22126089, -0.36981973,  0.4597152 ,\n",
       "         0.2006241 ,  0.1550529 ,  0.39731091,  0.37078075],\n",
       "       [-0.15001225,  0.14576421,  0.94841868,  0.19675173, -0.07783431,\n",
       "         0.01033941, -0.07570322, -0.03057367, -0.07217386],\n",
       "       [-0.14805195, -0.15480592, -0.00762798, -0.01839465, -0.21392805,\n",
       "        -0.36477239, -0.59971228,  0.44942527,  0.46179779],\n",
       "       [ 0.1019948 ,  0.79407469, -0.13642345, -0.15404105, -0.02033568,\n",
       "         0.08750149, -0.49319984, -0.03853829, -0.2527867 ],\n",
       "       [ 0.19658519, -0.03814681,  0.10840284, -0.58600986, -0.75390075,\n",
       "         0.04538167,  0.18069888, -0.03891112, -0.01217988],\n",
       "       [ 0.76126725, -0.02311312, -0.02207663,  0.58120846, -0.27314534,\n",
       "        -0.04402264, -0.06461567, -0.01366973,  0.02718244],\n",
       "       [ 0.00644411,  0.3938113 , -0.00607016,  0.002966  ,  0.03429334,\n",
       "        -0.79902242,  0.43007213, -0.05526371,  0.1311355 ],\n",
       "       [-0.00495137,  0.07901102,  0.01128137, -0.03159406,  0.02368185,\n",
       "         0.12846398, -0.13034593, -0.71792388,  0.66568664]])"
      ]
     },
     "execution_count": 11,
     "metadata": {},
     "output_type": "execute_result"
    }
   ],
   "source": [
    "pca.components_"
   ]
  },
  {
   "cell_type": "code",
   "execution_count": 12,
   "metadata": {},
   "outputs": [
    {
     "data": {
      "text/plain": [
       "array([5.89372984e-01, 1.84451685e-01, 9.91147170e-02, 6.07227801e-02,\n",
       "       3.02917253e-02, 2.45982702e-02, 9.39743701e-03, 1.55641971e-03,\n",
       "       4.93981394e-04])"
      ]
     },
     "execution_count": 12,
     "metadata": {},
     "output_type": "execute_result"
    }
   ],
   "source": [
    "pca.explained_variance_ratio_"
   ]
  },
  {
   "cell_type": "code",
   "execution_count": 13,
   "metadata": {},
   "outputs": [
    {
     "data": {
      "image/png": "[encoded data removed]",
      "text/plain": [
       "<Figure size 864x576 with 1 Axes>"
      ]
     },
     "metadata": {
      "needs_background": "light"
     },
     "output_type": "display_data"
    }
   ],
   "source": [
    "#Making the screeplot - plotting the cumulative variance against the number of components\n",
    "%matplotlib inline\n",
    "fig = plt.figure(figsize = (12,8))\n",
    "plt.plot(np.cumsum(pca.explained_variance_ratio_))\n",
    "plt.xlabel('number of components')\n",
    "plt.ylabel('cumulative explained variance')\n",
    "plt.show()"
   ]
  },
  {
   "cell_type": "markdown",
   "metadata": {},
   "source": [
    "### Since around 93% of data is being explained with 3 components, going ahead with 3 PCA variables "
   ]
  },
  {
   "cell_type": "code",
   "execution_count": 14,
   "metadata": {},
   "outputs": [
    {
     "data": {
      "text/html": [
       "<div>\n",
       "<style scoped>\n",
       "    .dataframe tbody tr th:only-of-type {\n",
       "        vertical-align: middle;\n",
       "    }\n",
       "\n",
       "    .dataframe tbody tr th {\n",
       "        vertical-align: top;\n",
       "    }\n",
       "\n",
       "    .dataframe thead th {\n",
       "        text-align: right;\n",
       "    }\n",
       "</style>\n",
       "<table border=\"1\" class=\"dataframe\">\n",
       "  <thead>\n",
       "    <tr style=\"text-align: right;\">\n",
       "      <th></th>\n",
       "      <th>Feature</th>\n",
       "      <th>PC1</th>\n",
       "      <th>PC2</th>\n",
       "      <th>PC3</th>\n",
       "    </tr>\n",
       "  </thead>\n",
       "  <tbody>\n",
       "    <tr>\n",
       "      <th>0</th>\n",
       "      <td>child_mort</td>\n",
       "      <td>-0.316392</td>\n",
       "      <td>0.476267</td>\n",
       "      <td>-0.150012</td>\n",
       "    </tr>\n",
       "    <tr>\n",
       "      <th>1</th>\n",
       "      <td>income</td>\n",
       "      <td>0.380041</td>\n",
       "      <td>0.128384</td>\n",
       "      <td>0.145764</td>\n",
       "    </tr>\n",
       "    <tr>\n",
       "      <th>2</th>\n",
       "      <td>inflation</td>\n",
       "      <td>-0.143085</td>\n",
       "      <td>0.221261</td>\n",
       "      <td>0.948419</td>\n",
       "    </tr>\n",
       "    <tr>\n",
       "      <th>3</th>\n",
       "      <td>life_expec</td>\n",
       "      <td>0.343857</td>\n",
       "      <td>-0.369820</td>\n",
       "      <td>0.196752</td>\n",
       "    </tr>\n",
       "    <tr>\n",
       "      <th>4</th>\n",
       "      <td>total_fer</td>\n",
       "      <td>-0.302842</td>\n",
       "      <td>0.459715</td>\n",
       "      <td>-0.077834</td>\n",
       "    </tr>\n",
       "    <tr>\n",
       "      <th>5</th>\n",
       "      <td>gdpp</td>\n",
       "      <td>0.399988</td>\n",
       "      <td>0.200624</td>\n",
       "      <td>0.010339</td>\n",
       "    </tr>\n",
       "    <tr>\n",
       "      <th>6</th>\n",
       "      <td>Health</td>\n",
       "      <td>0.358535</td>\n",
       "      <td>0.155053</td>\n",
       "      <td>-0.075703</td>\n",
       "    </tr>\n",
       "    <tr>\n",
       "      <th>7</th>\n",
       "      <td>Exports</td>\n",
       "      <td>0.342887</td>\n",
       "      <td>0.397311</td>\n",
       "      <td>-0.030574</td>\n",
       "    </tr>\n",
       "    <tr>\n",
       "      <th>8</th>\n",
       "      <td>Imports</td>\n",
       "      <td>0.344865</td>\n",
       "      <td>0.370781</td>\n",
       "      <td>-0.072174</td>\n",
       "    </tr>\n",
       "  </tbody>\n",
       "</table>\n",
       "</div>"
      ],
      "text/plain": [
       "      Feature       PC1       PC2       PC3\n",
       "0  child_mort -0.316392  0.476267 -0.150012\n",
       "1      income  0.380041  0.128384  0.145764\n",
       "2   inflation -0.143085  0.221261  0.948419\n",
       "3  life_expec  0.343857 -0.369820  0.196752\n",
       "4   total_fer -0.302842  0.459715 -0.077834\n",
       "5        gdpp  0.399988  0.200624  0.010339\n",
       "6      Health  0.358535  0.155053 -0.075703\n",
       "7     Exports  0.342887  0.397311 -0.030574\n",
       "8     Imports  0.344865  0.370781 -0.072174"
      ]
     },
     "execution_count": 14,
     "metadata": {},
     "output_type": "execute_result"
    }
   ],
   "source": [
    "#Understanding how the original 9 variables are loaded on the principal components. It can be verified from above as well.\n",
    "colnames = list(df1.columns)\n",
    "pcs_df = pd.DataFrame({ 'Feature':colnames,'PC1':pca.components_[0],'PC2':pca.components_[1],'PC3':pca.components_[2]})\n",
    "pcs_df"
   ]
  },
  {
   "cell_type": "code",
   "execution_count": 15,
   "metadata": {},
   "outputs": [
    {
     "data": {
      "image/png": "[encoded data removed]",
      "text/plain": [
       "<Figure size 576x576 with 1 Axes>"
      ]
     },
     "metadata": {
      "needs_background": "light"
     },
     "output_type": "display_data"
    }
   ],
   "source": [
    "# plotting them to visualise on how these features are loaded\n",
    "%matplotlib inline\n",
    "fig = plt.figure(figsize = (8,8))\n",
    "plt.scatter(pcs_df.PC1, pcs_df.PC2)\n",
    "plt.xlabel('Principal Component 1')\n",
    "plt.ylabel('Principal Component 2')\n",
    "for i, txt in enumerate(pcs_df.Feature):\n",
    "    plt.annotate(txt, (pcs_df.PC1[i],pcs_df.PC2[i]))\n",
    "plt.tight_layout()\n",
    "plt.show()"
   ]
  },
  {
   "cell_type": "code",
   "execution_count": 53,
   "metadata": {},
   "outputs": [],
   "source": [
    "#dimenstionality reduction using the 3 Principal Components\n",
    "from sklearn.decomposition import IncrementalPCA\n",
    "pca_final = IncrementalPCA(n_components=3)"
   ]
  },
  {
   "cell_type": "code",
   "execution_count": 54,
   "metadata": {},
   "outputs": [
    {
     "data": {
      "text/plain": [
       "(167, 3)"
      ]
     },
     "execution_count": 54,
     "metadata": {},
     "output_type": "execute_result"
    }
   ],
   "source": [
    "df_pca = pca_final.fit_transform(scaled_df)\n",
    "df_pca.shape"
   ]
  },
  {
   "cell_type": "code",
   "execution_count": 55,
   "metadata": {},
   "outputs": [
    {
     "data": {
      "text/plain": [
       "array([[-2.63744157e+00,  1.46903797e+00, -5.41359106e-01],\n",
       "       [-2.22769569e-02, -1.43189586e+00, -2.07009539e-02],\n",
       "       [-4.57626261e-01, -6.73300938e-01,  9.61867281e-01],\n",
       "       [-2.72452030e+00,  2.17458267e+00,  6.06686548e-01],\n",
       "       [ 6.49848516e-01, -1.02437392e+00, -2.50102847e-01],\n",
       "       [ 3.71968554e-02, -6.80889086e-01,  1.46696276e+00],\n",
       "       [-3.32691520e-01, -1.27451685e+00,  1.76636110e-01],\n",
       "       [ 3.18036154e+00, -2.50784878e-01, -1.16877257e-01],\n",
       "       [ 3.81568156e+00,  2.56083499e-01, -2.70495294e-01],\n",
       "       [-4.67515152e-01, -4.93492360e-01,  6.03288028e-01],\n",
       "       [ 1.49875246e+00, -4.28907400e-01, -5.50237572e-01],\n",
       "       [ 1.47097104e+00, -3.26795693e-01,  4.28411771e-01],\n",
       "       [-1.01419903e+00, -7.11807758e-01, -1.16988551e-01],\n",
       "       [ 8.45238116e-01, -1.00860625e+00, -4.17261615e-01],\n",
       "       [-1.34473920e-02, -9.82186148e-01,  8.80913018e-01],\n",
       "       [ 3.96087770e+00,  8.38740841e-01, -2.94077196e-01],\n",
       "       [-4.02707071e-01, -9.21816189e-01, -5.04892363e-01],\n",
       "       [-2.36598657e+00,  1.16845951e+00, -1.23525716e+00],\n",
       "       [-7.14998191e-01, -7.68107039e-01, -1.34109127e-01],\n",
       "       [-1.01778054e+00, -4.26144387e-01,  5.16465672e-02],\n",
       "       [ 2.52812687e-01, -1.69696897e+00, -2.50836495e-01],\n",
       "       [-1.13095912e+00,  3.96783001e-01, -2.39304177e-01],\n",
       "       [ 1.66280202e-01, -1.01868043e+00,  2.76558220e-01],\n",
       "       [ 2.69525065e+00,  3.67356498e-01,  1.64616171e+00],\n",
       "       [ 2.80569006e-01, -1.32128913e+00, -3.24418990e-01],\n",
       "       [-2.75387449e+00,  1.66232785e+00, -8.38530674e-01],\n",
       "       [-2.76406823e+00,  1.62703825e+00, -2.89501749e-01],\n",
       "       [-1.17929406e+00, -4.93713667e-01, -5.79293325e-01],\n",
       "       [-2.44142939e+00,  1.28368238e+00, -1.21856998e+00],\n",
       "       [ 3.39411994e+00, -7.58855209e-02, -5.31210031e-02],\n",
       "       [-5.23229456e-01, -9.78047863e-01, -5.73628045e-01],\n",
       "       [-3.24153046e+00,  2.17133945e+00, -1.60432462e+00],\n",
       "       [-3.18889212e+00,  2.35227803e+00, -1.06346393e+00],\n",
       "       [ 6.92394286e-01, -1.11434707e+00,  4.97610946e-01],\n",
       "       [-1.28851026e-01, -1.36213540e+00,  1.69283810e-01],\n",
       "       [-1.38822916e-02, -1.29235162e+00, -9.14677579e-02],\n",
       "       [-1.94991207e+00,  6.04586951e-01, -7.68860274e-01],\n",
       "       [-3.11679859e+00,  2.17150462e+00,  3.65532243e-01],\n",
       "       [-2.04776384e+00,  1.08864497e+00,  7.15229292e-01],\n",
       "       [ 4.31523541e-01, -1.37262753e+00,  2.62061719e-01],\n",
       "       [-2.57476033e+00,  1.49393828e+00, -9.50191143e-01],\n",
       "       [ 8.46278142e-01, -1.26420905e+00, -2.67258861e-01],\n",
       "       [ 2.31379384e+00, -5.50247851e-01, -6.22654443e-02],\n",
       "       [ 1.67463303e+00, -8.68266683e-01, -4.36511824e-01],\n",
       "       [ 4.37600084e+00,  9.19899166e-01, -1.86529955e-01],\n",
       "       [-3.67788028e-01, -8.12993768e-01, -7.21568825e-02],\n",
       "       [-3.02658561e-01, -9.72557952e-01,  1.72477125e-01],\n",
       "       [-8.36646810e-01, -5.29582755e-01,  2.51857913e-01],\n",
       "       [-3.36572123e-01, -1.21747835e+00, -2.87803708e-01],\n",
       "       [-1.05577406e+00,  2.69689134e+00,  1.07364824e+00],\n",
       "       [-1.94848965e+00,  4.93517847e-01, -4.07068580e-02],\n",
       "       [ 1.06557915e+00, -9.24334486e-01, -2.02813828e-01],\n",
       "       [-7.62615708e-01, -5.81923630e-01, -3.87273966e-01],\n",
       "       [ 3.20148606e+00, -4.38651220e-03, -2.77573697e-01],\n",
       "       [ 2.89215450e+00, -3.07170794e-01, -2.12461353e-01],\n",
       "       [-1.28280191e+00,  8.50735122e-01,  5.22787837e-01],\n",
       "       [-2.10533591e+00,  8.25136769e-01, -7.45876298e-01],\n",
       "       [-3.60504965e-01, -1.16420904e+00,  2.22137822e-01],\n",
       "       [ 3.29930852e+00, -1.63475829e-01, -2.47480550e-01],\n",
       "       [-2.00241212e+00,  7.51898968e-01,  3.65803951e-01],\n",
       "       [ 1.93046755e+00, -1.02179786e+00, -1.97169128e-01],\n",
       "       [-8.55184899e-02, -1.03950060e+00, -5.13496872e-01],\n",
       "       [-8.57586524e-01, -5.35167576e-01, -2.38976872e-01],\n",
       "       [-2.71436749e+00,  1.61353038e+00,  3.81112147e-02],\n",
       "       [-2.61088220e+00,  1.40183125e+00, -1.19274761e+00],\n",
       "       [-9.32328908e-01, -4.32759786e-01, -3.12365847e-01],\n",
       "       [-3.94495955e+00,  3.02528124e+00, -1.79111113e+00],\n",
       "       [ 1.05201992e+00, -9.93622931e-01, -1.78986761e-01],\n",
       "       [ 3.10042218e+00,  1.66620534e-01,  1.95525454e-01],\n",
       "       [-1.26527648e+00, -2.73471726e-01, -7.93540516e-02],\n",
       "       [-8.42067437e-01, -5.64431036e-01,  7.04183140e-01],\n",
       "       [-7.83604357e-02, -9.71699050e-01,  1.01036952e+00],\n",
       "       [-1.19755535e+00,  3.66926553e-01,  6.77786697e-01],\n",
       "       [ 4.66106546e+00,  1.40673214e+00, -7.72706005e-01],\n",
       "       [ 1.78332399e+00, -3.98450266e-01, -1.29869769e-01],\n",
       "       [ 2.55301292e+00, -7.77100571e-01, -1.70574633e-01],\n",
       "       [-2.92488125e-01, -1.07098189e+00,  3.72733290e-01],\n",
       "       [ 2.85862023e+00, -8.79853187e-01, -3.49318688e-01],\n",
       "       [-5.21408157e-01, -6.37590059e-01,  2.09087479e-01],\n",
       "       [-3.56704385e-01, -2.21989984e-01,  1.16239312e+00],\n",
       "       [-1.73754907e+00,  2.80717075e-01, -8.73885085e-01],\n",
       "       [-1.66771576e+00,  2.32726872e-01, -9.70327191e-01],\n",
       "       [ 2.78022258e+00,  4.09049216e-01,  1.10198987e+00],\n",
       "       [-1.09060307e+00, -5.44824469e-01,  1.36468875e-01],\n",
       "       [-1.63798735e+00,  2.38587936e-01, -2.18411812e-01],\n",
       "       [ 6.66371378e-01, -1.21036568e+00, -4.98155603e-01],\n",
       "       [ 6.47380735e-01, -1.49788191e+00, -2.74720020e-01],\n",
       "       [-2.43643715e+00,  1.15330757e+00, -1.16893445e+00],\n",
       "       [-2.25920211e+00,  9.31943490e-01, -7.63506099e-01],\n",
       "       [ 4.92263179e-01, -5.17710053e-01,  9.54316810e-01],\n",
       "       [ 7.77907024e-01, -1.00439663e+00, -2.03252447e-01],\n",
       "       [ 1.26443457e+01,  8.26526585e+00, -7.44422522e-01],\n",
       "       [ 8.40286423e-02, -1.46663341e+00, -2.54533838e-01],\n",
       "       [-1.99719466e+00,  5.53843756e-01, -3.38949086e-01],\n",
       "       [-2.71099852e+00,  1.49439612e+00, -3.58971361e-01],\n",
       "       [ 4.27177521e-01, -8.46043967e-01,  2.58877823e-01],\n",
       "       [ 2.31409518e-01, -1.17916241e+00, -1.65173022e-01],\n",
       "       [-2.94714444e+00,  2.00852988e+00, -1.12382153e+00],\n",
       "       [ 2.63607678e+00,  8.71657993e-02, -8.06881075e-02],\n",
       "       [-2.11479497e+00,  1.04608272e+00,  5.93506195e-01],\n",
       "       [ 3.11350366e-01, -1.18393416e+00, -3.53340370e-01],\n",
       "       [-1.11560793e+00, -2.13157479e-01, -5.62427694e-01],\n",
       "       [-5.11219367e-01, -1.23132389e+00,  3.84380598e-01],\n",
       "       [-1.26831401e+00,  8.55486527e-02,  2.75680072e+00],\n",
       "       [ 3.55971705e-01, -1.40622589e+00, -2.37602576e-01],\n",
       "       [-5.46772119e-01, -9.78645302e-01, -5.21939515e-01],\n",
       "       [-2.73267720e+00,  1.54232048e+00, -7.76059664e-01],\n",
       "       [-1.26469403e+00, -3.58711858e-01, -2.54282073e-01],\n",
       "       [-1.33597288e+00,  4.12453164e-01, -7.61497045e-01],\n",
       "       [-1.25257966e+00, -4.03649867e-01,  5.38299132e-01],\n",
       "       [ 4.49434594e+00,  9.91137264e-01, -3.83121947e-01],\n",
       "       [ 2.20708488e+00, -4.60402508e-01,  4.02226753e-02],\n",
       "       [-3.06349475e+00,  2.10345193e+00, -1.29601270e+00],\n",
       "       [-3.93050805e+00,  3.84156564e+00,  7.86649100e+00],\n",
       "       [ 5.84225530e+00,  1.65077719e+00,  1.85810149e-01],\n",
       "       [ 1.05163942e+00, -2.80233805e-02,  1.19785090e+00],\n",
       "       [-1.86271903e+00,  5.66659012e-01, -1.04890743e-01],\n",
       "       [ 3.03027657e-01, -8.77558152e-01, -2.08919158e-01],\n",
       "       [-4.87602063e-01, -9.16197424e-01, -2.02154532e-02],\n",
       "       [-1.79908876e-01, -1.16141959e+00,  7.96190705e-02],\n",
       "       [-9.28957530e-01, -5.99764354e-01, -3.54198733e-01],\n",
       "       [ 8.54815190e-01, -1.28764989e+00, -1.69052042e-01],\n",
       "       [ 1.75954412e+00, -1.08887390e+00, -2.14430100e-01],\n",
       "       [ 5.12429969e+00,  1.44099979e+00,  1.17107078e+00],\n",
       "       [ 2.83523953e-01, -1.24324096e+00, -8.78695362e-02],\n",
       "       [ 1.41656293e-01, -7.97629457e-01,  8.19296842e-01],\n",
       "       [-1.74841079e+00,  2.58810274e-01, -8.07940722e-01],\n",
       "       [-8.48158634e-01, -4.91577438e-01, -5.34690531e-01],\n",
       "       [ 9.11234513e-01,  3.11483433e-02,  1.30178694e+00],\n",
       "       [-1.86271953e+00,  4.93654358e-01, -9.17758293e-01],\n",
       "       [ 1.86490508e-01, -1.43095062e+00,  1.18010625e-01],\n",
       "       [ 6.68231072e-01, -7.68133419e-01, -8.54486502e-01],\n",
       "       [-3.22704810e+00,  2.31622701e+00, -1.19591404e-01],\n",
       "       [ 6.58985925e+00,  2.94076381e+00, -3.37303856e-01],\n",
       "       [ 1.41044469e+00, -7.89309546e-01, -3.49240050e-01],\n",
       "       [ 2.04164022e+00, -7.26174703e-01, -3.97057843e-01],\n",
       "       [-1.51754777e+00,  1.42710226e-02, -3.57636331e-01],\n",
       "       [-1.17984717e+00,  3.49293570e-01, -5.33353823e-01],\n",
       "       [ 1.75633945e+00, -1.02229881e+00,  8.09814622e-02],\n",
       "       [ 2.24348215e+00, -1.00694393e+00, -1.77758596e-01],\n",
       "       [-5.44176127e-01, -9.44779352e-01,  1.57161816e+00],\n",
       "       [-2.25341201e-01, -9.85686904e-01, -1.73911064e-01],\n",
       "       [-2.01686997e+00,  8.51336401e-01,  6.97648281e-01],\n",
       "       [-1.97679055e-01, -5.67097461e-01,  3.35800779e-02],\n",
       "       [ 3.80597136e+00,  3.79849383e-01, -2.38743262e-01],\n",
       "       [ 6.26297409e+00,  1.85000963e+00, -4.76166618e-01],\n",
       "       [-1.37579894e+00, -1.63372836e-01,  2.77517846e-01],\n",
       "       [-2.27834344e+00,  1.00591556e+00, -3.97830215e-01],\n",
       "       [ 1.75003752e-01, -1.39783589e+00, -1.37076883e-02],\n",
       "       [-2.00654209e+00,  1.09209234e+00,  1.39169881e+00],\n",
       "       [-2.24527391e+00,  9.01384656e-01, -1.18666619e+00],\n",
       "       [-8.57094509e-01, -5.43222766e-01, -3.75027066e-01],\n",
       "       [-6.11326382e-02, -1.28052084e+00, -8.88316742e-02],\n",
       "       [ 3.28746959e-01, -1.06532901e+00,  2.66875043e-01],\n",
       "       [-8.95571886e-01, -1.91899504e-01, -6.22690182e-01],\n",
       "       [-2.62250045e+00,  1.46053612e+00, -4.03761119e-01],\n",
       "       [-3.71584511e-01, -1.15734667e+00,  6.51387502e-01],\n",
       "       [ 2.68935982e+00,  5.41214474e-01,  9.57821458e-01],\n",
       "       [ 2.60507653e+00, -3.74391523e-01, -1.46298882e-01],\n",
       "       [ 3.77973688e+00,  1.19298043e-01, -3.09117650e-01],\n",
       "       [ 4.56137111e-01, -1.09822863e+00,  4.89676824e-02],\n",
       "       [-1.03056343e+00, -5.62941401e-01,  7.43224331e-01],\n",
       "       [-1.17501897e+00, -2.81317390e-01, -6.70432664e-01],\n",
       "       [-3.11498487e-01, -6.68715525e-03,  3.65671155e+00],\n",
       "       [-5.92402161e-01, -1.07822432e+00,  5.10558163e-01],\n",
       "       [-1.80154125e+00,  5.90835071e-01,  1.17776563e+00],\n",
       "       [-2.64661126e+00,  1.56806633e+00, -1.74032291e-01]])"
      ]
     },
     "execution_count": 55,
     "metadata": {},
     "output_type": "execute_result"
    }
   ],
   "source": [
    "df_pca"
   ]
  },
  {
   "cell_type": "code",
   "execution_count": 56,
   "metadata": {},
   "outputs": [],
   "source": [
    "#Creating a transpose so that the each column is properly arranged\n",
    "pc = np.transpose(df_pca)"
   ]
  },
  {
   "cell_type": "code",
   "execution_count": 57,
   "metadata": {},
   "outputs": [],
   "source": [
    "pcs_df2 = pd.DataFrame({'PC1':pc[0],'PC2':pc[1],'PC3':pc[2]})"
   ]
  },
  {
   "cell_type": "code",
   "execution_count": 58,
   "metadata": {},
   "outputs": [
    {
     "data": {
      "text/html": [
       "<div>\n",
       "<style scoped>\n",
       "    .dataframe tbody tr th:only-of-type {\n",
       "        vertical-align: middle;\n",
       "    }\n",
       "\n",
       "    .dataframe tbody tr th {\n",
       "        vertical-align: top;\n",
       "    }\n",
       "\n",
       "    .dataframe thead th {\n",
       "        text-align: right;\n",
       "    }\n",
       "</style>\n",
       "<table border=\"1\" class=\"dataframe\">\n",
       "  <thead>\n",
       "    <tr style=\"text-align: right;\">\n",
       "      <th></th>\n",
       "      <th>PC1</th>\n",
       "      <th>PC2</th>\n",
       "      <th>PC3</th>\n",
       "    </tr>\n",
       "  </thead>\n",
       "  <tbody>\n",
       "    <tr>\n",
       "      <th>0</th>\n",
       "      <td>-2.637442</td>\n",
       "      <td>1.469038</td>\n",
       "      <td>-0.541359</td>\n",
       "    </tr>\n",
       "    <tr>\n",
       "      <th>1</th>\n",
       "      <td>-0.022277</td>\n",
       "      <td>-1.431896</td>\n",
       "      <td>-0.020701</td>\n",
       "    </tr>\n",
       "    <tr>\n",
       "      <th>2</th>\n",
       "      <td>-0.457626</td>\n",
       "      <td>-0.673301</td>\n",
       "      <td>0.961867</td>\n",
       "    </tr>\n",
       "    <tr>\n",
       "      <th>3</th>\n",
       "      <td>-2.724520</td>\n",
       "      <td>2.174583</td>\n",
       "      <td>0.606687</td>\n",
       "    </tr>\n",
       "    <tr>\n",
       "      <th>4</th>\n",
       "      <td>0.649849</td>\n",
       "      <td>-1.024374</td>\n",
       "      <td>-0.250103</td>\n",
       "    </tr>\n",
       "  </tbody>\n",
       "</table>\n",
       "</div>"
      ],
      "text/plain": [
       "        PC1       PC2       PC3\n",
       "0 -2.637442  1.469038 -0.541359\n",
       "1 -0.022277 -1.431896 -0.020701\n",
       "2 -0.457626 -0.673301  0.961867\n",
       "3 -2.724520  2.174583  0.606687\n",
       "4  0.649849 -1.024374 -0.250103"
      ]
     },
     "execution_count": 58,
     "metadata": {},
     "output_type": "execute_result"
    }
   ],
   "source": [
    "#PCA dataframe\n",
    "pcs_df2.head()"
   ]
  },
  {
   "cell_type": "code",
   "execution_count": 59,
   "metadata": {},
   "outputs": [
    {
     "data": {
      "image/png": "[encoded data removed]",
      "text/plain": [
       "<Figure size 720x288 with 3 Axes>"
      ]
     },
     "metadata": {
      "needs_background": "light"
     },
     "output_type": "display_data"
    }
   ],
   "source": [
    "#visualizing the 3 components and checking for outliers\n",
    "plt.figure(figsize=(10,4))\n",
    "\n",
    "plt.subplot(1,4,1)\n",
    "plt.boxplot(pcs_df2.PC1)\n",
    "\n",
    "plt.subplot(1,4,2)\n",
    "plt.boxplot(pcs_df2.PC2)\n",
    "\n",
    "plt.subplot(1,4,3)\n",
    "plt.boxplot(pcs_df2.PC3)\n",
    "\n",
    "plt.show()"
   ]
  },
  {
   "cell_type": "code",
   "execution_count": 60,
   "metadata": {},
   "outputs": [
    {
     "data": {
      "text/plain": [
       "(167, 3)"
      ]
     },
     "execution_count": 60,
     "metadata": {},
     "output_type": "execute_result"
    }
   ],
   "source": [
    "pcs_df2.shape"
   ]
  },
  {
   "cell_type": "markdown",
   "metadata": {},
   "source": [
    "### Hopkins measure"
   ]
  },
  {
   "cell_type": "code",
   "execution_count": 61,
   "metadata": {},
   "outputs": [],
   "source": [
    "#Calculating the Hopkins statistic\n",
    "from sklearn.neighbors import NearestNeighbors\n",
    "from random import sample\n",
    "from numpy.random import uniform\n",
    "import numpy as np\n",
    "from math import isnan\n",
    " \n",
    "def hopkins(X):\n",
    "    d = X.shape[1]\n",
    "    #d = len(vars) # columns\n",
    "    n = len(X) # rows\n",
    "    m = int(0.1 * n) \n",
    "    nbrs = NearestNeighbors(n_neighbors=1).fit(X.values)\n",
    " \n",
    "    rand_X = sample(range(0, n, 1), m)\n",
    " \n",
    "    ujd = []\n",
    "    wjd = []\n",
    "    for j in range(0, m):\n",
    "        u_dist, _ = nbrs.kneighbors(uniform(np.amin(X,axis=0),np.amax(X,axis=0),d).reshape(1, -1), 2, return_distance=True)\n",
    "        ujd.append(u_dist[0][1])\n",
    "        w_dist, _ = nbrs.kneighbors(X.iloc[rand_X[j]].values.reshape(1, -1), 2, return_distance=True)\n",
    "        wjd.append(w_dist[0][1])\n",
    " \n",
    "    H = sum(ujd) / (sum(ujd) + sum(wjd))\n",
    "    if isnan(H):\n",
    "        print(ujd, wjd)\n",
    "        H = 0\n",
    " \n",
    "    return H"
   ]
  },
  {
   "cell_type": "code",
   "execution_count": 62,
   "metadata": {},
   "outputs": [
    {
     "data": {
      "text/plain": [
       "0.8324658802305916"
      ]
     },
     "execution_count": 62,
     "metadata": {},
     "output_type": "execute_result"
    }
   ],
   "source": [
    "#Let's check the Hopkins measure\n",
    "hopkins(pcs_df2)"
   ]
  },
  {
   "cell_type": "code",
   "execution_count": 63,
   "metadata": {},
   "outputs": [
    {
     "name": "stdout",
     "output_type": "stream",
     "text": [
      "<class 'pandas.core.frame.DataFrame'>\n",
      "RangeIndex: 167 entries, 0 to 166\n",
      "Data columns (total 3 columns):\n",
      "PC1    167 non-null float64\n",
      "PC2    167 non-null float64\n",
      "PC3    167 non-null float64\n",
      "dtypes: float64(3)\n",
      "memory usage: 4.0 KB\n"
     ]
    }
   ],
   "source": [
    "pcs_df2.info()"
   ]
  },
  {
   "cell_type": "markdown",
   "metadata": {},
   "source": [
    "### K means clustering"
   ]
  },
  {
   "cell_type": "code",
   "execution_count": 27,
   "metadata": {},
   "outputs": [],
   "source": [
    "# To perform KMeans clustering \n",
    "from sklearn.cluster import KMeans"
   ]
  },
  {
   "cell_type": "code",
   "execution_count": 64,
   "metadata": {},
   "outputs": [],
   "source": [
    "#First we'll do the silhouette score analysis\n",
    "from sklearn.metrics import silhouette_score\n",
    "sse_ = []\n",
    "for k in range(2, 10):\n",
    "    kmeans = KMeans(n_clusters=k).fit(pcs_df2)\n",
    "    sse_.append([k, silhouette_score(pcs_df2, kmeans.labels_)])"
   ]
  },
  {
   "cell_type": "code",
   "execution_count": 65,
   "metadata": {},
   "outputs": [
    {
     "data": {
      "text/plain": [
       "[<matplotlib.lines.Line2D at 0x19728481d30>]"
      ]
     },
     "execution_count": 65,
     "metadata": {},
     "output_type": "execute_result"
    },
    {
     "data": {
      "image/png": "[encoded data removed]",
      "text/plain": [
       "<Figure size 432x288 with 1 Axes>"
      ]
     },
     "metadata": {
      "needs_background": "light"
     },
     "output_type": "display_data"
    }
   ],
   "source": [
    "plt.plot(pd.DataFrame(sse_)[0], pd.DataFrame(sse_)[1])"
   ]
  },
  {
   "cell_type": "code",
   "execution_count": 66,
   "metadata": {},
   "outputs": [
    {
     "data": {
      "text/plain": [
       "[<matplotlib.lines.Line2D at 0x19729c40748>]"
      ]
     },
     "execution_count": 66,
     "metadata": {},
     "output_type": "execute_result"
    },
    {
     "data": {
      "image/png": "[encoded data removed]",
      "text/plain": [
       "<Figure size 432x288 with 1 Axes>"
      ]
     },
     "metadata": {
      "needs_background": "light"
     },
     "output_type": "display_data"
    }
   ],
   "source": [
    "## From the above analysis we find that 2 seems to be a good number of clusters for K means algorithm\n",
    "#Now let's proceed to the elbow curve method\n",
    "ssd = []\n",
    "for num_clusters in list(range(1,10)):\n",
    "    model_clus = KMeans(n_clusters = num_clusters, max_iter=50)\n",
    "    model_clus.fit(pcs_df2)\n",
    "    ssd.append(model_clus.inertia_)\n",
    "\n",
    "plt.plot(ssd)"
   ]
  },
  {
   "cell_type": "code",
   "execution_count": 67,
   "metadata": {},
   "outputs": [
    {
     "data": {
      "text/plain": [
       "KMeans(algorithm='auto', copy_x=True, init='k-means++', max_iter=50,\n",
       "    n_clusters=2, n_init=10, n_jobs=None, precompute_distances='auto',\n",
       "    random_state=50, tol=0.0001, verbose=0)"
      ]
     },
     "execution_count": 67,
     "metadata": {},
     "output_type": "execute_result"
    }
   ],
   "source": [
    "#Here also we're seeing a distinct bend at around 2 clusters. Hence it seems a good K to choose.\n",
    "#Let's perform K means using K=2\n",
    "model_clus2 = KMeans(n_clusters = 2, max_iter=50,random_state = 50)\n",
    "model_clus2.fit(pcs_df2)"
   ]
  },
  {
   "cell_type": "code",
   "execution_count": 68,
   "metadata": {},
   "outputs": [
    {
     "data": {
      "text/html": [
       "<div>\n",
       "<style scoped>\n",
       "    .dataframe tbody tr th:only-of-type {\n",
       "        vertical-align: middle;\n",
       "    }\n",
       "\n",
       "    .dataframe tbody tr th {\n",
       "        vertical-align: top;\n",
       "    }\n",
       "\n",
       "    .dataframe thead th {\n",
       "        text-align: right;\n",
       "    }\n",
       "</style>\n",
       "<table border=\"1\" class=\"dataframe\">\n",
       "  <thead>\n",
       "    <tr style=\"text-align: right;\">\n",
       "      <th></th>\n",
       "      <th>PC1</th>\n",
       "      <th>PC2</th>\n",
       "      <th>PC3</th>\n",
       "      <th>ClusterID</th>\n",
       "    </tr>\n",
       "  </thead>\n",
       "  <tbody>\n",
       "    <tr>\n",
       "      <th>0</th>\n",
       "      <td>-2.637442</td>\n",
       "      <td>1.469038</td>\n",
       "      <td>-0.541359</td>\n",
       "      <td>1</td>\n",
       "    </tr>\n",
       "    <tr>\n",
       "      <th>1</th>\n",
       "      <td>-0.022277</td>\n",
       "      <td>-1.431896</td>\n",
       "      <td>-0.020701</td>\n",
       "      <td>1</td>\n",
       "    </tr>\n",
       "    <tr>\n",
       "      <th>2</th>\n",
       "      <td>-0.457626</td>\n",
       "      <td>-0.673301</td>\n",
       "      <td>0.961867</td>\n",
       "      <td>1</td>\n",
       "    </tr>\n",
       "    <tr>\n",
       "      <th>3</th>\n",
       "      <td>-2.724520</td>\n",
       "      <td>2.174583</td>\n",
       "      <td>0.606687</td>\n",
       "      <td>1</td>\n",
       "    </tr>\n",
       "    <tr>\n",
       "      <th>4</th>\n",
       "      <td>0.649849</td>\n",
       "      <td>-1.024374</td>\n",
       "      <td>-0.250103</td>\n",
       "      <td>1</td>\n",
       "    </tr>\n",
       "  </tbody>\n",
       "</table>\n",
       "</div>"
      ],
      "text/plain": [
       "        PC1       PC2       PC3  ClusterID\n",
       "0 -2.637442  1.469038 -0.541359          1\n",
       "1 -0.022277 -1.431896 -0.020701          1\n",
       "2 -0.457626 -0.673301  0.961867          1\n",
       "3 -2.724520  2.174583  0.606687          1\n",
       "4  0.649849 -1.024374 -0.250103          1"
      ]
     },
     "execution_count": 68,
     "metadata": {},
     "output_type": "execute_result"
    }
   ],
   "source": [
    "# Adding clusters formed to the PCA data frame\n",
    "data =pcs_df2\n",
    "data.index = pd.RangeIndex(len(data.index))\n",
    "dat_km = pd.concat([data, pd.Series(model_clus2.labels_)], axis=1)\n",
    "dat_km.columns = ['PC1', 'PC2','PC3','ClusterID']\n",
    "dat_km.head()"
   ]
  },
  {
   "cell_type": "code",
   "execution_count": 69,
   "metadata": {},
   "outputs": [
    {
     "data": {
      "text/plain": [
       "1    130\n",
       "0     37\n",
       "Name: ClusterID, dtype: int64"
      ]
     },
     "execution_count": 69,
     "metadata": {},
     "output_type": "execute_result"
    }
   ],
   "source": [
    "# Checking number of countries assigned to both clusters  \n",
    "dat_km['ClusterID'].value_counts()"
   ]
  },
  {
   "cell_type": "code",
   "execution_count": 34,
   "metadata": {},
   "outputs": [
    {
     "name": "stderr",
     "output_type": "stream",
     "text": [
      "C:\\Users\\Rohini\\Anaconda3\\lib\\site-packages\\scipy\\stats\\stats.py:1713: FutureWarning: Using a non-tuple sequence for multidimensional indexing is deprecated; use `arr[tuple(seq)]` instead of `arr[seq]`. In the future this will be interpreted as an array index, `arr[np.array(seq)]`, which will result either in an error or a different result.\n",
      "  return np.add.reduce(sorted[indexer] * weights, axis=axis) / sumval\n",
      "C:\\Users\\Rohini\\Anaconda3\\lib\\site-packages\\statsmodels\\nonparametric\\kde.py:488: RuntimeWarning: invalid value encountered in true_divide\n",
      "  binned = fast_linbin(X, a, b, gridsize) / (delta * nobs)\n",
      "C:\\Users\\Rohini\\Anaconda3\\lib\\site-packages\\statsmodels\\nonparametric\\kdetools.py:34: RuntimeWarning: invalid value encountered in double_scalars\n",
      "  FAC1 = 2*(np.pi*bw/RANGE)**2\n",
      "C:\\Users\\Rohini\\Anaconda3\\lib\\site-packages\\numpy\\core\\fromnumeric.py:83: RuntimeWarning: invalid value encountered in reduce\n",
      "  return ufunc.reduce(obj, axis, dtype, out, **passkwargs)\n"
     ]
    },
    {
     "data": {
      "text/plain": [
       "<seaborn.axisgrid.PairGrid at 0x197272fef28>"
      ]
     },
     "execution_count": 34,
     "metadata": {},
     "output_type": "execute_result"
    },
    {
     "data": {
      "image/png": "[encoded data removed]",
      "text/plain": [
       "<Figure size 774.125x720 with 20 Axes>"
      ]
     },
     "metadata": {
      "needs_background": "light"
     },
     "output_type": "display_data"
    }
   ],
   "source": [
    "#Data Visualization of all 3 PCA variables across both clusters\n",
    "sns.pairplot(hue='ClusterID',data=dat_km)"
   ]
  },
  {
   "cell_type": "code",
   "execution_count": 35,
   "metadata": {},
   "outputs": [
    {
     "data": {
      "text/html": [
       "<div>\n",
       "<style scoped>\n",
       "    .dataframe tbody tr th:only-of-type {\n",
       "        vertical-align: middle;\n",
       "    }\n",
       "\n",
       "    .dataframe tbody tr th {\n",
       "        vertical-align: top;\n",
       "    }\n",
       "\n",
       "    .dataframe thead th {\n",
       "        text-align: right;\n",
       "    }\n",
       "</style>\n",
       "<table border=\"1\" class=\"dataframe\">\n",
       "  <thead>\n",
       "    <tr style=\"text-align: right;\">\n",
       "      <th></th>\n",
       "      <th>country</th>\n",
       "      <th>child_mort</th>\n",
       "      <th>income</th>\n",
       "      <th>inflation</th>\n",
       "      <th>life_expec</th>\n",
       "      <th>total_fer</th>\n",
       "      <th>gdpp</th>\n",
       "      <th>Health</th>\n",
       "      <th>Exports</th>\n",
       "      <th>Imports</th>\n",
       "      <th>PC1</th>\n",
       "      <th>PC2</th>\n",
       "      <th>PC3</th>\n",
       "      <th>ClusterID</th>\n",
       "    </tr>\n",
       "  </thead>\n",
       "  <tbody>\n",
       "    <tr>\n",
       "      <th>0</th>\n",
       "      <td>Afghanistan</td>\n",
       "      <td>90.2</td>\n",
       "      <td>1610</td>\n",
       "      <td>9.44</td>\n",
       "      <td>56.2</td>\n",
       "      <td>5.82</td>\n",
       "      <td>553</td>\n",
       "      <td>4191.74</td>\n",
       "      <td>5530.0</td>\n",
       "      <td>24829.7</td>\n",
       "      <td>-2.636647</td>\n",
       "      <td>1.472085</td>\n",
       "      <td>-0.546500</td>\n",
       "      <td>1</td>\n",
       "    </tr>\n",
       "    <tr>\n",
       "      <th>1</th>\n",
       "      <td>Albania</td>\n",
       "      <td>16.6</td>\n",
       "      <td>9930</td>\n",
       "      <td>4.49</td>\n",
       "      <td>76.3</td>\n",
       "      <td>1.65</td>\n",
       "      <td>4090</td>\n",
       "      <td>26789.50</td>\n",
       "      <td>114520.0</td>\n",
       "      <td>198774.0</td>\n",
       "      <td>-0.023845</td>\n",
       "      <td>-1.435816</td>\n",
       "      <td>-0.009080</td>\n",
       "      <td>1</td>\n",
       "    </tr>\n",
       "    <tr>\n",
       "      <th>2</th>\n",
       "      <td>Algeria</td>\n",
       "      <td>27.3</td>\n",
       "      <td>12900</td>\n",
       "      <td>16.10</td>\n",
       "      <td>76.5</td>\n",
       "      <td>2.89</td>\n",
       "      <td>4460</td>\n",
       "      <td>18598.20</td>\n",
       "      <td>171264.0</td>\n",
       "      <td>140044.0</td>\n",
       "      <td>-0.459260</td>\n",
       "      <td>-0.678794</td>\n",
       "      <td>0.967852</td>\n",
       "      <td>1</td>\n",
       "    </tr>\n",
       "    <tr>\n",
       "      <th>3</th>\n",
       "      <td>Angola</td>\n",
       "      <td>119.0</td>\n",
       "      <td>5900</td>\n",
       "      <td>22.40</td>\n",
       "      <td>60.1</td>\n",
       "      <td>6.16</td>\n",
       "      <td>3530</td>\n",
       "      <td>10060.50</td>\n",
       "      <td>219919.0</td>\n",
       "      <td>151437.0</td>\n",
       "      <td>-2.723581</td>\n",
       "      <td>2.176018</td>\n",
       "      <td>0.597794</td>\n",
       "      <td>1</td>\n",
       "    </tr>\n",
       "    <tr>\n",
       "      <th>4</th>\n",
       "      <td>Antigua and Barbuda</td>\n",
       "      <td>10.3</td>\n",
       "      <td>19100</td>\n",
       "      <td>1.44</td>\n",
       "      <td>76.8</td>\n",
       "      <td>2.13</td>\n",
       "      <td>12200</td>\n",
       "      <td>73566.00</td>\n",
       "      <td>555100.0</td>\n",
       "      <td>718580.0</td>\n",
       "      <td>0.648777</td>\n",
       "      <td>-1.026498</td>\n",
       "      <td>-0.244170</td>\n",
       "      <td>1</td>\n",
       "    </tr>\n",
       "  </tbody>\n",
       "</table>\n",
       "</div>"
      ],
      "text/plain": [
       "               country  child_mort  income  inflation  life_expec  total_fer  \\\n",
       "0          Afghanistan        90.2    1610       9.44        56.2       5.82   \n",
       "1              Albania        16.6    9930       4.49        76.3       1.65   \n",
       "2              Algeria        27.3   12900      16.10        76.5       2.89   \n",
       "3               Angola       119.0    5900      22.40        60.1       6.16   \n",
       "4  Antigua and Barbuda        10.3   19100       1.44        76.8       2.13   \n",
       "\n",
       "    gdpp    Health   Exports   Imports       PC1       PC2       PC3  \\\n",
       "0    553   4191.74    5530.0   24829.7 -2.636647  1.472085 -0.546500   \n",
       "1   4090  26789.50  114520.0  198774.0 -0.023845 -1.435816 -0.009080   \n",
       "2   4460  18598.20  171264.0  140044.0 -0.459260 -0.678794  0.967852   \n",
       "3   3530  10060.50  219919.0  151437.0 -2.723581  2.176018  0.597794   \n",
       "4  12200  73566.00  555100.0  718580.0  0.648777 -1.026498 -0.244170   \n",
       "\n",
       "   ClusterID  \n",
       "0          1  \n",
       "1          1  \n",
       "2          1  \n",
       "3          1  \n",
       "4          1  "
      ]
     },
     "execution_count": 35,
     "metadata": {},
     "output_type": "execute_result"
    }
   ],
   "source": [
    "#merging clusters with with main df\n",
    "main_df=pd.merge(df,dat_km, left_index=True,right_index=True)\n",
    "main_df.head()"
   ]
  },
  {
   "cell_type": "code",
   "execution_count": 36,
   "metadata": {},
   "outputs": [
    {
     "data": {
      "text/html": [
       "<div>\n",
       "<style scoped>\n",
       "    .dataframe tbody tr th:only-of-type {\n",
       "        vertical-align: middle;\n",
       "    }\n",
       "\n",
       "    .dataframe tbody tr th {\n",
       "        vertical-align: top;\n",
       "    }\n",
       "\n",
       "    .dataframe thead th {\n",
       "        text-align: right;\n",
       "    }\n",
       "</style>\n",
       "<table border=\"1\" class=\"dataframe\">\n",
       "  <thead>\n",
       "    <tr style=\"text-align: right;\">\n",
       "      <th></th>\n",
       "      <th>country</th>\n",
       "      <th>child_mort</th>\n",
       "      <th>income</th>\n",
       "      <th>inflation</th>\n",
       "      <th>life_expec</th>\n",
       "      <th>total_fer</th>\n",
       "      <th>gdpp</th>\n",
       "      <th>Health</th>\n",
       "      <th>Exports</th>\n",
       "      <th>Imports</th>\n",
       "      <th>ClusterID</th>\n",
       "    </tr>\n",
       "  </thead>\n",
       "  <tbody>\n",
       "    <tr>\n",
       "      <th>0</th>\n",
       "      <td>Afghanistan</td>\n",
       "      <td>90.2</td>\n",
       "      <td>1610</td>\n",
       "      <td>9.44</td>\n",
       "      <td>56.2</td>\n",
       "      <td>5.82</td>\n",
       "      <td>553</td>\n",
       "      <td>4191.74</td>\n",
       "      <td>5530.0</td>\n",
       "      <td>24829.7</td>\n",
       "      <td>1</td>\n",
       "    </tr>\n",
       "    <tr>\n",
       "      <th>1</th>\n",
       "      <td>Albania</td>\n",
       "      <td>16.6</td>\n",
       "      <td>9930</td>\n",
       "      <td>4.49</td>\n",
       "      <td>76.3</td>\n",
       "      <td>1.65</td>\n",
       "      <td>4090</td>\n",
       "      <td>26789.50</td>\n",
       "      <td>114520.0</td>\n",
       "      <td>198774.0</td>\n",
       "      <td>1</td>\n",
       "    </tr>\n",
       "    <tr>\n",
       "      <th>2</th>\n",
       "      <td>Algeria</td>\n",
       "      <td>27.3</td>\n",
       "      <td>12900</td>\n",
       "      <td>16.10</td>\n",
       "      <td>76.5</td>\n",
       "      <td>2.89</td>\n",
       "      <td>4460</td>\n",
       "      <td>18598.20</td>\n",
       "      <td>171264.0</td>\n",
       "      <td>140044.0</td>\n",
       "      <td>1</td>\n",
       "    </tr>\n",
       "    <tr>\n",
       "      <th>3</th>\n",
       "      <td>Angola</td>\n",
       "      <td>119.0</td>\n",
       "      <td>5900</td>\n",
       "      <td>22.40</td>\n",
       "      <td>60.1</td>\n",
       "      <td>6.16</td>\n",
       "      <td>3530</td>\n",
       "      <td>10060.50</td>\n",
       "      <td>219919.0</td>\n",
       "      <td>151437.0</td>\n",
       "      <td>1</td>\n",
       "    </tr>\n",
       "    <tr>\n",
       "      <th>4</th>\n",
       "      <td>Antigua and Barbuda</td>\n",
       "      <td>10.3</td>\n",
       "      <td>19100</td>\n",
       "      <td>1.44</td>\n",
       "      <td>76.8</td>\n",
       "      <td>2.13</td>\n",
       "      <td>12200</td>\n",
       "      <td>73566.00</td>\n",
       "      <td>555100.0</td>\n",
       "      <td>718580.0</td>\n",
       "      <td>1</td>\n",
       "    </tr>\n",
       "  </tbody>\n",
       "</table>\n",
       "</div>"
      ],
      "text/plain": [
       "               country  child_mort  income  inflation  life_expec  total_fer  \\\n",
       "0          Afghanistan        90.2    1610       9.44        56.2       5.82   \n",
       "1              Albania        16.6    9930       4.49        76.3       1.65   \n",
       "2              Algeria        27.3   12900      16.10        76.5       2.89   \n",
       "3               Angola       119.0    5900      22.40        60.1       6.16   \n",
       "4  Antigua and Barbuda        10.3   19100       1.44        76.8       2.13   \n",
       "\n",
       "    gdpp    Health   Exports   Imports  ClusterID  \n",
       "0    553   4191.74    5530.0   24829.7          1  \n",
       "1   4090  26789.50  114520.0  198774.0          1  \n",
       "2   4460  18598.20  171264.0  140044.0          1  \n",
       "3   3530  10060.50  219919.0  151437.0          1  \n",
       "4  12200  73566.00  555100.0  718580.0          1  "
      ]
     },
     "execution_count": 36,
     "metadata": {},
     "output_type": "execute_result"
    }
   ],
   "source": [
    "#Dropping PCA variables from main data frame\n",
    "main_df = main_df.drop(['PC1','PC2','PC3'],axis=1)\n",
    "main_df.head()"
   ]
  },
  {
   "cell_type": "code",
   "execution_count": 37,
   "metadata": {},
   "outputs": [
    {
     "data": {
      "text/plain": [
       "1    130\n",
       "0     37\n",
       "Name: ClusterID, dtype: int64"
      ]
     },
     "execution_count": 37,
     "metadata": {},
     "output_type": "execute_result"
    }
   ],
   "source": [
    "main_df['ClusterID'].value_counts()"
   ]
  },
  {
   "cell_type": "code",
   "execution_count": 38,
   "metadata": {},
   "outputs": [
    {
     "data": {
      "image/png": "[encoded data removed]",
      "text/plain": [
       "<Figure size 1152x288 with 3 Axes>"
      ]
     },
     "metadata": {
      "needs_background": "light"
     },
     "output_type": "display_data"
    }
   ],
   "source": [
    "#Visualizing and checking for outliers on main 3 variables across both clusters \n",
    "plt.figure(figsize=(16,4))\n",
    "\n",
    "plt.subplot(1,3,1)\n",
    "sns.boxplot(x='ClusterID',y='gdpp',data=main_df)\n",
    "\n",
    "plt.subplot(1,3,2)\n",
    "sns.boxplot(x='ClusterID',y='child_mort',data=main_df)\n",
    "\n",
    "plt.subplot(1,3,3)\n",
    "sns.boxplot(x='ClusterID',y='income',data=main_df)\n",
    "\n",
    "plt.show()"
   ]
  },
  {
   "cell_type": "markdown",
   "metadata": {},
   "source": [
    "#### Looking like countries under cluster 1 are poor and requires aid. But problem is there are total 130 countries under cluster 1 and hence proceeding with hierarchical clustering"
   ]
  },
  {
   "cell_type": "markdown",
   "metadata": {},
   "source": [
    "## Hierarchical Clustering"
   ]
  },
  {
   "cell_type": "code",
   "execution_count": 39,
   "metadata": {},
   "outputs": [],
   "source": [
    "from scipy.cluster.hierarchy import linkage\n",
    "from scipy.cluster.hierarchy import dendrogram\n",
    "from scipy.cluster.hierarchy import cut_tree"
   ]
  },
  {
   "cell_type": "code",
   "execution_count": 40,
   "metadata": {},
   "outputs": [
    {
     "data": {
      "image/png": "[encoded data removed]",
      "text/plain": [
       "<Figure size 432x288 with 1 Axes>"
      ]
     },
     "metadata": {
      "needs_background": "light"
     },
     "output_type": "display_data"
    }
   ],
   "source": [
    "# single linkage\n",
    "mergings = linkage(pcs_df2, method=\"single\", metric='euclidean')\n",
    "dendrogram(mergings)\n",
    "plt.show()"
   ]
  },
  {
   "cell_type": "code",
   "execution_count": 41,
   "metadata": {},
   "outputs": [
    {
     "data": {
      "image/png": "[encoded data removed]",
      "text/plain": [
       "<Figure size 432x288 with 1 Axes>"
      ]
     },
     "metadata": {
      "needs_background": "light"
     },
     "output_type": "display_data"
    }
   ],
   "source": [
    "# complete linkage\n",
    "mergings = linkage(pcs_df2, method=\"complete\", metric='euclidean')\n",
    "dendrogram(mergings)\n",
    "plt.show()"
   ]
  },
  {
   "cell_type": "markdown",
   "metadata": {},
   "source": [
    "#### Breaking the tree at 5 number of clusters looks like a good idea"
   ]
  },
  {
   "cell_type": "code",
   "execution_count": 42,
   "metadata": {},
   "outputs": [
    {
     "data": {
      "text/plain": [
       "array([0, 1, 1, 0, 1, 1, 1, 1, 2, 1, 1, 1, 1, 1, 1, 2, 1, 0, 1, 1, 1, 0,\n",
       "       1, 1, 1, 0, 0, 1, 0, 1, 1, 0, 0, 1, 1, 1, 0, 0, 0, 1, 0, 1, 1, 1,\n",
       "       2, 1, 1, 1, 1, 0, 0, 1, 1, 1, 1, 0, 0, 1, 1, 0, 1, 1, 1, 0, 0, 1,\n",
       "       0, 1, 1, 1, 1, 1, 0, 2, 1, 1, 1, 1, 1, 1, 0, 0, 1, 1, 0, 1, 1, 0,\n",
       "       0, 1, 1, 3, 1, 0, 0, 1, 1, 0, 1, 0, 1, 1, 1, 1, 1, 1, 0, 1, 0, 1,\n",
       "       2, 1, 0, 4, 2, 1, 0, 1, 1, 1, 1, 1, 1, 2, 1, 1, 0, 1, 1, 0, 1, 1,\n",
       "       0, 2, 1, 1, 0, 0, 1, 1, 1, 1, 0, 1, 2, 2, 1, 0, 1, 0, 0, 1, 1, 1,\n",
       "       1, 0, 1, 1, 1, 2, 1, 1, 1, 1, 1, 0, 0])"
      ]
     },
     "execution_count": 42,
     "metadata": {},
     "output_type": "execute_result"
    }
   ],
   "source": [
    "# 5 clusters\n",
    "cluster_labels = cut_tree(mergings, n_clusters=5).reshape(-1, )\n",
    "cluster_labels"
   ]
  },
  {
   "cell_type": "code",
   "execution_count": 43,
   "metadata": {},
   "outputs": [
    {
     "data": {
      "text/html": [
       "<div>\n",
       "<style scoped>\n",
       "    .dataframe tbody tr th:only-of-type {\n",
       "        vertical-align: middle;\n",
       "    }\n",
       "\n",
       "    .dataframe tbody tr th {\n",
       "        vertical-align: top;\n",
       "    }\n",
       "\n",
       "    .dataframe thead th {\n",
       "        text-align: right;\n",
       "    }\n",
       "</style>\n",
       "<table border=\"1\" class=\"dataframe\">\n",
       "  <thead>\n",
       "    <tr style=\"text-align: right;\">\n",
       "      <th></th>\n",
       "      <th>country</th>\n",
       "      <th>child_mort</th>\n",
       "      <th>income</th>\n",
       "      <th>inflation</th>\n",
       "      <th>life_expec</th>\n",
       "      <th>total_fer</th>\n",
       "      <th>gdpp</th>\n",
       "      <th>Health</th>\n",
       "      <th>Exports</th>\n",
       "      <th>Imports</th>\n",
       "      <th>ClusterID</th>\n",
       "      <th>Hierarchical Clustering</th>\n",
       "    </tr>\n",
       "  </thead>\n",
       "  <tbody>\n",
       "    <tr>\n",
       "      <th>0</th>\n",
       "      <td>Afghanistan</td>\n",
       "      <td>90.2</td>\n",
       "      <td>1610</td>\n",
       "      <td>9.44</td>\n",
       "      <td>56.2</td>\n",
       "      <td>5.82</td>\n",
       "      <td>553</td>\n",
       "      <td>4191.74</td>\n",
       "      <td>5530.0</td>\n",
       "      <td>24829.7</td>\n",
       "      <td>1</td>\n",
       "      <td>0</td>\n",
       "    </tr>\n",
       "    <tr>\n",
       "      <th>1</th>\n",
       "      <td>Albania</td>\n",
       "      <td>16.6</td>\n",
       "      <td>9930</td>\n",
       "      <td>4.49</td>\n",
       "      <td>76.3</td>\n",
       "      <td>1.65</td>\n",
       "      <td>4090</td>\n",
       "      <td>26789.50</td>\n",
       "      <td>114520.0</td>\n",
       "      <td>198774.0</td>\n",
       "      <td>1</td>\n",
       "      <td>1</td>\n",
       "    </tr>\n",
       "    <tr>\n",
       "      <th>2</th>\n",
       "      <td>Algeria</td>\n",
       "      <td>27.3</td>\n",
       "      <td>12900</td>\n",
       "      <td>16.10</td>\n",
       "      <td>76.5</td>\n",
       "      <td>2.89</td>\n",
       "      <td>4460</td>\n",
       "      <td>18598.20</td>\n",
       "      <td>171264.0</td>\n",
       "      <td>140044.0</td>\n",
       "      <td>1</td>\n",
       "      <td>1</td>\n",
       "    </tr>\n",
       "    <tr>\n",
       "      <th>3</th>\n",
       "      <td>Angola</td>\n",
       "      <td>119.0</td>\n",
       "      <td>5900</td>\n",
       "      <td>22.40</td>\n",
       "      <td>60.1</td>\n",
       "      <td>6.16</td>\n",
       "      <td>3530</td>\n",
       "      <td>10060.50</td>\n",
       "      <td>219919.0</td>\n",
       "      <td>151437.0</td>\n",
       "      <td>1</td>\n",
       "      <td>0</td>\n",
       "    </tr>\n",
       "    <tr>\n",
       "      <th>4</th>\n",
       "      <td>Antigua and Barbuda</td>\n",
       "      <td>10.3</td>\n",
       "      <td>19100</td>\n",
       "      <td>1.44</td>\n",
       "      <td>76.8</td>\n",
       "      <td>2.13</td>\n",
       "      <td>12200</td>\n",
       "      <td>73566.00</td>\n",
       "      <td>555100.0</td>\n",
       "      <td>718580.0</td>\n",
       "      <td>1</td>\n",
       "      <td>1</td>\n",
       "    </tr>\n",
       "  </tbody>\n",
       "</table>\n",
       "</div>"
      ],
      "text/plain": [
       "               country  child_mort  income  inflation  life_expec  total_fer  \\\n",
       "0          Afghanistan        90.2    1610       9.44        56.2       5.82   \n",
       "1              Albania        16.6    9930       4.49        76.3       1.65   \n",
       "2              Algeria        27.3   12900      16.10        76.5       2.89   \n",
       "3               Angola       119.0    5900      22.40        60.1       6.16   \n",
       "4  Antigua and Barbuda        10.3   19100       1.44        76.8       2.13   \n",
       "\n",
       "    gdpp    Health   Exports   Imports  ClusterID  Hierarchical Clustering  \n",
       "0    553   4191.74    5530.0   24829.7          1                        0  \n",
       "1   4090  26789.50  114520.0  198774.0          1                        1  \n",
       "2   4460  18598.20  171264.0  140044.0          1                        1  \n",
       "3   3530  10060.50  219919.0  151437.0          1                        0  \n",
       "4  12200  73566.00  555100.0  718580.0          1                        1  "
      ]
     },
     "execution_count": 43,
     "metadata": {},
     "output_type": "execute_result"
    }
   ],
   "source": [
    "# assign cluster labels\n",
    "main_df['Hierarchical Clustering'] = cluster_labels\n",
    "main_df.head()"
   ]
  },
  {
   "cell_type": "code",
   "execution_count": 44,
   "metadata": {},
   "outputs": [
    {
     "data": {
      "text/plain": [
       "1    130\n",
       "0     37\n",
       "Name: ClusterID, dtype: int64"
      ]
     },
     "execution_count": 44,
     "metadata": {},
     "output_type": "execute_result"
    }
   ],
   "source": [
    "main_df['ClusterID'].value_counts()"
   ]
  },
  {
   "cell_type": "code",
   "execution_count": 45,
   "metadata": {},
   "outputs": [
    {
     "data": {
      "text/plain": [
       "1    107\n",
       "0     47\n",
       "2     11\n",
       "4      1\n",
       "3      1\n",
       "Name: Hierarchical Clustering, dtype: int64"
      ]
     },
     "execution_count": 45,
     "metadata": {},
     "output_type": "execute_result"
    }
   ],
   "source": [
    "# checking number of countries under each of the clusters\n",
    "main_df['Hierarchical Clustering'].value_counts()"
   ]
  },
  {
   "cell_type": "code",
   "execution_count": 46,
   "metadata": {},
   "outputs": [
    {
     "data": {
      "image/png": "[encoded data removed]",
      "text/plain": [
       "<Figure size 1152x288 with 3 Axes>"
      ]
     },
     "metadata": {
      "needs_background": "light"
     },
     "output_type": "display_data"
    }
   ],
   "source": [
    "# Visualising and checking for outliers on 3 main variables across all clusters\n",
    "plt.figure(figsize=(16,4))\n",
    "\n",
    "plt.subplot(1,3,1)\n",
    "sns.boxplot(x='Hierarchical Clustering',y='gdpp',data=main_df)\n",
    "\n",
    "plt.subplot(1,3,2)\n",
    "sns.boxplot(x='Hierarchical Clustering',y='child_mort',data=main_df)\n",
    "\n",
    "plt.subplot(1,3,3)\n",
    "sns.boxplot(x='Hierarchical Clustering',y='income',data=main_df)\n",
    "\n",
    "plt.show()"
   ]
  },
  {
   "cell_type": "markdown",
   "metadata": {},
   "source": [
    "### Choosing Hierarchical Clustering method using which we determined, countries under cluster 0 are in dire need of aid. Further analysis is made below"
   ]
  },
  {
   "cell_type": "code",
   "execution_count": 47,
   "metadata": {},
   "outputs": [
    {
     "data": {
      "image/png": "[encoded data removed]",
      "text/plain": [
       "<Figure size 1152x288 with 3 Axes>"
      ]
     },
     "metadata": {
      "needs_background": "light"
     },
     "output_type": "display_data"
    }
   ],
   "source": [
    "# Visualizing main 3 variables across clusters again to see how they are placed\n",
    "plt.figure(figsize=(16,4))\n",
    "plt.subplot(1,3,1)\n",
    "sns.scatterplot(x='gdpp',y='child_mort',hue='Hierarchical Clustering',legend='full',data=main_df)\n",
    "plt.subplot(1,3,2)\n",
    "sns.scatterplot(x='income',y='child_mort',hue='Hierarchical Clustering',legend='full',data=main_df)\n",
    "plt.subplot(1,3,3)\n",
    "sns.scatterplot(x='gdpp',y='income',hue='Hierarchical Clustering',legend='full',data=main_df)\n",
    "\n",
    "plt.show()"
   ]
  },
  {
   "cell_type": "markdown",
   "metadata": {},
   "source": [
    "### Clearly, Countries under cluster 0 need a helping hand. Deep dive into cluster 0 and removing few outliers"
   ]
  },
  {
   "cell_type": "code",
   "execution_count": 48,
   "metadata": {},
   "outputs": [
    {
     "data": {
      "text/html": [
       "<div>\n",
       "<style scoped>\n",
       "    .dataframe tbody tr th:only-of-type {\n",
       "        vertical-align: middle;\n",
       "    }\n",
       "\n",
       "    .dataframe tbody tr th {\n",
       "        vertical-align: top;\n",
       "    }\n",
       "\n",
       "    .dataframe thead th {\n",
       "        text-align: right;\n",
       "    }\n",
       "</style>\n",
       "<table border=\"1\" class=\"dataframe\">\n",
       "  <thead>\n",
       "    <tr style=\"text-align: right;\">\n",
       "      <th></th>\n",
       "      <th>country</th>\n",
       "      <th>child_mort</th>\n",
       "      <th>income</th>\n",
       "      <th>inflation</th>\n",
       "      <th>life_expec</th>\n",
       "      <th>total_fer</th>\n",
       "      <th>gdpp</th>\n",
       "      <th>Health</th>\n",
       "      <th>Exports</th>\n",
       "      <th>Imports</th>\n",
       "      <th>ClusterID</th>\n",
       "      <th>Hierarchical Clustering</th>\n",
       "    </tr>\n",
       "  </thead>\n",
       "  <tbody>\n",
       "    <tr>\n",
       "      <th>0</th>\n",
       "      <td>Afghanistan</td>\n",
       "      <td>90.2</td>\n",
       "      <td>1610</td>\n",
       "      <td>9.440</td>\n",
       "      <td>56.2</td>\n",
       "      <td>5.82</td>\n",
       "      <td>553</td>\n",
       "      <td>4191.74</td>\n",
       "      <td>5530.0</td>\n",
       "      <td>24829.7</td>\n",
       "      <td>1</td>\n",
       "      <td>0</td>\n",
       "    </tr>\n",
       "    <tr>\n",
       "      <th>3</th>\n",
       "      <td>Angola</td>\n",
       "      <td>119.0</td>\n",
       "      <td>5900</td>\n",
       "      <td>22.400</td>\n",
       "      <td>60.1</td>\n",
       "      <td>6.16</td>\n",
       "      <td>3530</td>\n",
       "      <td>10060.50</td>\n",
       "      <td>219919.0</td>\n",
       "      <td>151437.0</td>\n",
       "      <td>1</td>\n",
       "      <td>0</td>\n",
       "    </tr>\n",
       "    <tr>\n",
       "      <th>17</th>\n",
       "      <td>Benin</td>\n",
       "      <td>111.0</td>\n",
       "      <td>1820</td>\n",
       "      <td>0.885</td>\n",
       "      <td>61.8</td>\n",
       "      <td>5.36</td>\n",
       "      <td>758</td>\n",
       "      <td>3107.80</td>\n",
       "      <td>18040.4</td>\n",
       "      <td>28197.6</td>\n",
       "      <td>1</td>\n",
       "      <td>0</td>\n",
       "    </tr>\n",
       "    <tr>\n",
       "      <th>21</th>\n",
       "      <td>Botswana</td>\n",
       "      <td>52.5</td>\n",
       "      <td>13300</td>\n",
       "      <td>8.920</td>\n",
       "      <td>57.1</td>\n",
       "      <td>2.88</td>\n",
       "      <td>6350</td>\n",
       "      <td>52705.00</td>\n",
       "      <td>276860.0</td>\n",
       "      <td>325755.0</td>\n",
       "      <td>1</td>\n",
       "      <td>0</td>\n",
       "    </tr>\n",
       "    <tr>\n",
       "      <th>25</th>\n",
       "      <td>Burkina Faso</td>\n",
       "      <td>116.0</td>\n",
       "      <td>1430</td>\n",
       "      <td>6.810</td>\n",
       "      <td>57.9</td>\n",
       "      <td>5.87</td>\n",
       "      <td>575</td>\n",
       "      <td>3875.50</td>\n",
       "      <td>11040.0</td>\n",
       "      <td>17020.0</td>\n",
       "      <td>1</td>\n",
       "      <td>0</td>\n",
       "    </tr>\n",
       "  </tbody>\n",
       "</table>\n",
       "</div>"
      ],
      "text/plain": [
       "         country  child_mort  income  inflation  life_expec  total_fer  gdpp  \\\n",
       "0    Afghanistan        90.2    1610      9.440        56.2       5.82   553   \n",
       "3         Angola       119.0    5900     22.400        60.1       6.16  3530   \n",
       "17         Benin       111.0    1820      0.885        61.8       5.36   758   \n",
       "21      Botswana        52.5   13300      8.920        57.1       2.88  6350   \n",
       "25  Burkina Faso       116.0    1430      6.810        57.9       5.87   575   \n",
       "\n",
       "      Health   Exports   Imports  ClusterID  Hierarchical Clustering  \n",
       "0    4191.74    5530.0   24829.7          1                        0  \n",
       "3   10060.50  219919.0  151437.0          1                        0  \n",
       "17   3107.80   18040.4   28197.6          1                        0  \n",
       "21  52705.00  276860.0  325755.0          1                        0  \n",
       "25   3875.50   11040.0   17020.0          1                        0  "
      ]
     },
     "execution_count": 48,
     "metadata": {},
     "output_type": "execute_result"
    }
   ],
   "source": [
    "#filtering countries under Cluster 0\n",
    "back_df = main_df.loc[main_df['Hierarchical Clustering'] == 0]\n",
    "back_df.head()"
   ]
  },
  {
   "cell_type": "code",
   "execution_count": 49,
   "metadata": {},
   "outputs": [
    {
     "data": {
      "image/png": "[encoded data removed]",
      "text/plain": [
       "<Figure size 1152x288 with 3 Axes>"
      ]
     },
     "metadata": {
      "needs_background": "light"
     },
     "output_type": "display_data"
    }
   ],
   "source": [
    "# Visualizing 3 main variables for countries under cluster 0\n",
    "plt.figure(figsize=(16,4))\n",
    "plt.subplot(1,3,1)\n",
    "plt.boxplot(back_df.income)\n",
    "plt.subplot(1,3,2)\n",
    "plt.boxplot(back_df.gdpp)\n",
    "plt.subplot(1,3,3)\n",
    "plt.boxplot(back_df.child_mort)\n",
    "plt.show()"
   ]
  },
  {
   "cell_type": "code",
   "execution_count": 50,
   "metadata": {},
   "outputs": [],
   "source": [
    "#Removing few outliers in all 3 dimensions\n",
    "back_df = back_df.loc[(back_df.income < back_df.income.mean())]\n",
    "back_df = back_df.loc[(back_df.gdpp < back_df.gdpp.mean())]\n",
    "back_df = back_df.loc[(back_df.child_mort > back_df.child_mort.quantile(0.75))]"
   ]
  },
  {
   "cell_type": "code",
   "execution_count": 51,
   "metadata": {},
   "outputs": [
    {
     "data": {
      "image/png": "[encoded data removed]",
      "text/plain": [
       "<Figure size 1152x288 with 3 Axes>"
      ]
     },
     "metadata": {
      "needs_background": "light"
     },
     "output_type": "display_data"
    }
   ],
   "source": [
    "# Visualizing after removing outliers\n",
    "plt.figure(figsize=(16,4))\n",
    "plt.subplot(1,3,1)\n",
    "plt.boxplot(back_df.income)\n",
    "plt.subplot(1,3,2)\n",
    "plt.boxplot(back_df.gdpp)\n",
    "plt.subplot(1,3,3)\n",
    "plt.boxplot(back_df.child_mort)\n",
    "plt.show()"
   ]
  },
  {
   "cell_type": "code",
   "execution_count": 52,
   "metadata": {},
   "outputs": [
    {
     "data": {
      "text/html": [
       "<div>\n",
       "<style scoped>\n",
       "    .dataframe tbody tr th:only-of-type {\n",
       "        vertical-align: middle;\n",
       "    }\n",
       "\n",
       "    .dataframe tbody tr th {\n",
       "        vertical-align: top;\n",
       "    }\n",
       "\n",
       "    .dataframe thead th {\n",
       "        text-align: right;\n",
       "    }\n",
       "</style>\n",
       "<table border=\"1\" class=\"dataframe\">\n",
       "  <thead>\n",
       "    <tr style=\"text-align: right;\">\n",
       "      <th></th>\n",
       "      <th>country</th>\n",
       "      <th>income</th>\n",
       "      <th>gdpp</th>\n",
       "      <th>child_mort</th>\n",
       "    </tr>\n",
       "  </thead>\n",
       "  <tbody>\n",
       "    <tr>\n",
       "      <th>31</th>\n",
       "      <td>Central African Republic</td>\n",
       "      <td>888</td>\n",
       "      <td>446</td>\n",
       "      <td>149.0</td>\n",
       "    </tr>\n",
       "    <tr>\n",
       "      <th>66</th>\n",
       "      <td>Haiti</td>\n",
       "      <td>1500</td>\n",
       "      <td>662</td>\n",
       "      <td>208.0</td>\n",
       "    </tr>\n",
       "    <tr>\n",
       "      <th>97</th>\n",
       "      <td>Mali</td>\n",
       "      <td>1870</td>\n",
       "      <td>708</td>\n",
       "      <td>137.0</td>\n",
       "    </tr>\n",
       "    <tr>\n",
       "      <th>112</th>\n",
       "      <td>Niger</td>\n",
       "      <td>814</td>\n",
       "      <td>348</td>\n",
       "      <td>123.0</td>\n",
       "    </tr>\n",
       "    <tr>\n",
       "      <th>132</th>\n",
       "      <td>Sierra Leone</td>\n",
       "      <td>1220</td>\n",
       "      <td>399</td>\n",
       "      <td>160.0</td>\n",
       "    </tr>\n",
       "  </tbody>\n",
       "</table>\n",
       "</div>"
      ],
      "text/plain": [
       "                      country  income  gdpp  child_mort\n",
       "31   Central African Republic     888   446       149.0\n",
       "66                      Haiti    1500   662       208.0\n",
       "97                       Mali    1870   708       137.0\n",
       "112                     Niger     814   348       123.0\n",
       "132              Sierra Leone    1220   399       160.0"
      ]
     },
     "execution_count": 52,
     "metadata": {},
     "output_type": "execute_result"
    }
   ],
   "source": [
    "# Final set of countries which need dire help\n",
    "back_df[['country','income','gdpp','child_mort']]"
   ]
  },
  {
   "cell_type": "markdown",
   "metadata": {},
   "source": [
    "### Countries: Central African Republic\t, Haiti, Mali, Niger & Sierra Leone\t are the ones whose income & gdpp is very less compared to others and also high on child Mort.  Hence suggesting these countris to be helped."
   ]
  },
  {
   "cell_type": "code",
   "execution_count": null,
   "metadata": {},
   "outputs": [],
   "source": []
  }
 ],
 "metadata": {
  "kernelspec": {
   "display_name": "Python 3",
   "language": "python",
   "name": "python3"
  },
  "language_info": {
   "codemirror_mode": {
    "name": "ipython",
    "version": 3
   },
   "file_extension": ".py",
   "mimetype": "text/x-python",
   "name": "python",
   "nbconvert_exporter": "python",
   "pygments_lexer": "ipython3",
   "version": "3.7.1"
  }
 },
 "nbformat": 4,
 "nbformat_minor": 2
}
